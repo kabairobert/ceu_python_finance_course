{
 "cells": [
  {
   "cell_type": "markdown",
   "metadata": {},
   "source": [
    "Lecturer: Robi K ![Robi K](img\\KABAI_Robert_Zsolt.jpg)"
   ]
  },
  {
   "cell_type": "markdown",
   "metadata": {},
   "source": [
    "# Loan Default prediction\n",
    "Using scikit-learn and historical performance data to predict whether a loan will default."
   ]
  },
  {
   "cell_type": "markdown",
   "metadata": {
    "toc": true
   },
   "source": [
    "<h1>Table of Contents<span class=\"tocSkip\"></span></h1>\n",
    "<div class=\"toc\"><ul class=\"toc-item\"><li><span><a href=\"#Brief-intro-to-classification\" data-toc-modified-id=\"Brief-intro-to-classification-1\"><span class=\"toc-item-num\">1&nbsp;&nbsp;</span>Brief intro to classification</a></span><ul class=\"toc-item\"><li><span><a href=\"#Logistic-Regression\" data-toc-modified-id=\"Logistic-Regression-1.1\"><span class=\"toc-item-num\">1.1&nbsp;&nbsp;</span>Logistic Regression</a></span></li><li><span><a href=\"#Decision-Trees\" data-toc-modified-id=\"Decision-Trees-1.2\"><span class=\"toc-item-num\">1.2&nbsp;&nbsp;</span>Decision Trees</a></span></li><li><span><a href=\"#Performance-metrics\" data-toc-modified-id=\"Performance-metrics-1.3\"><span class=\"toc-item-num\">1.3&nbsp;&nbsp;</span>Performance metrics</a></span></li><li><span><a href=\"#General-Supervised-Learning-workflow\" data-toc-modified-id=\"General-Supervised-Learning-workflow-1.4\"><span class=\"toc-item-num\">1.4&nbsp;&nbsp;</span>General Supervised Learning workflow</a></span></li></ul></li><li><span><a href=\"#Financial-product-overview\" data-toc-modified-id=\"Financial-product-overview-2\"><span class=\"toc-item-num\">2&nbsp;&nbsp;</span>Financial product overview</a></span></li><li><span><a href=\"#Load-already-cleaned-data-from-previous-lecture\" data-toc-modified-id=\"Load-already-cleaned-data-from-previous-lecture-3\"><span class=\"toc-item-num\">3&nbsp;&nbsp;</span>Load already cleaned data from previous lecture</a></span></li><li><span><a href=\"#Convert-categorical-variables-to-individual-binaries\" data-toc-modified-id=\"Convert-categorical-variables-to-individual-binaries-4\"><span class=\"toc-item-num\">4&nbsp;&nbsp;</span>Convert categorical variables to individual binaries</a></span></li><li><span><a href=\"#Train-test-split\" data-toc-modified-id=\"Train-test-split-5\"><span class=\"toc-item-num\">5&nbsp;&nbsp;</span>Train-test split</a></span></li><li><span><a href=\"#First-try-for-prediction-with-Logistic-Regression\" data-toc-modified-id=\"First-try-for-prediction-with-Logistic-Regression-6\"><span class=\"toc-item-num\">6&nbsp;&nbsp;</span>First try for prediction with Logistic Regression</a></span><ul class=\"toc-item\"><li><span><a href=\"#Using-Logistic-Regression-from-Scikit-Learn\" data-toc-modified-id=\"Using-Logistic-Regression-from-Scikit-Learn-6.1\"><span class=\"toc-item-num\">6.1&nbsp;&nbsp;</span>Using Logistic Regression from Scikit-Learn</a></span></li><li><span><a href=\"#Why-the-bad-performance?\" data-toc-modified-id=\"Why-the-bad-performance?-6.2\"><span class=\"toc-item-num\">6.2&nbsp;&nbsp;</span>Why the bad performance?</a></span></li><li><span><a href=\"#Exercise:-What-do-you-think-is-the-problem?\" data-toc-modified-id=\"Exercise:-What-do-you-think-is-the-problem?-6.3\"><span class=\"toc-item-num\">6.3&nbsp;&nbsp;</span>Exercise: What do you think is the problem?</a></span></li></ul></li><li><span><a href=\"#Dealing-with-class-imbalance\" data-toc-modified-id=\"Dealing-with-class-imbalance-7\"><span class=\"toc-item-num\">7&nbsp;&nbsp;</span>Dealing with class imbalance</a></span><ul class=\"toc-item\"><li><span><a href=\"#Exercise:-Think-about-what-is-the-simplest-model-that-would-give-~85%-accuracy?-Would-that-be-a-useful-model?\" data-toc-modified-id=\"Exercise:-Think-about-what-is-the-simplest-model-that-would-give-~85%-accuracy?-Would-that-be-a-useful-model?-7.1\"><span class=\"toc-item-num\">7.1&nbsp;&nbsp;</span>Exercise: Think about what is the simplest model that would give ~85% accuracy? Would that be a useful model?</a></span></li><li><span><a href=\"#Downsampling-the-training-set\" data-toc-modified-id=\"Downsampling-the-training-set-7.2\"><span class=\"toc-item-num\">7.2&nbsp;&nbsp;</span>Downsampling the training set</a></span></li></ul></li><li><span><a href=\"#Prediction-after-solved-class-imbalance:-Logistic-Regression,-Decision-Tree\" data-toc-modified-id=\"Prediction-after-solved-class-imbalance:-Logistic-Regression,-Decision-Tree-8\"><span class=\"toc-item-num\">8&nbsp;&nbsp;</span>Prediction after solved class imbalance: Logistic Regression, Decision Tree</a></span><ul class=\"toc-item\"><li><span><a href=\"#Logistic-regression\" data-toc-modified-id=\"Logistic-regression-8.1\"><span class=\"toc-item-num\">8.1&nbsp;&nbsp;</span>Logistic regression</a></span></li><li><span><a href=\"#Decision-Tree\" data-toc-modified-id=\"Decision-Tree-8.2\"><span class=\"toc-item-num\">8.2&nbsp;&nbsp;</span>Decision Tree</a></span></li><li><span><a href=\"#Visualizing-and-interpreting-a-Decision-Tree\" data-toc-modified-id=\"Visualizing-and-interpreting-a-Decision-Tree-8.3\"><span class=\"toc-item-num\">8.3&nbsp;&nbsp;</span>Visualizing and interpreting a Decision Tree</a></span></li><li><span><a href=\"#Exercise:-Use-predicted-probabilities-with-a-different-threshold\" data-toc-modified-id=\"Exercise:-Use-predicted-probabilities-with-a-different-threshold-8.4\"><span class=\"toc-item-num\">8.4&nbsp;&nbsp;</span>Exercise: Use predicted probabilities with a different threshold</a></span></li><li><span><a href=\"#Exercise:-Vary-the-max-depth-of-the-tree-from-1-to-10\" data-toc-modified-id=\"Exercise:-Vary-the-max-depth-of-the-tree-from-1-to-10-8.5\"><span class=\"toc-item-num\">8.5&nbsp;&nbsp;</span>Exercise: Vary the max depth of the tree from 1 to 10</a></span></li></ul></li></ul></div>"
   ]
  },
  {
   "cell_type": "markdown",
   "metadata": {},
   "source": [
    "## Brief intro to classification\n",
    "\n",
    "As mentioned in the previous lecture our final goal is to assess the riskiness of our investments. In this example we will use loan level historical performance data to create a predictive model to make a default prediction for each loan individually. The model will decide whether or not a loan is a good or a bad loan.\n",
    "![Good_or_bad_credit](img\\good_or_bad_credit.png)\n",
    "\n",
    "In the general case we can formulate this question as a classification problem. In classification we observations with multiple features / descriptors (the two axis on the picture below) and two or more categories (the color of the dots in the picture below). We would like to learn what structure/region of the feature space will most likely result in observing which classs.\n",
    "\n",
    "![Classification](img\\classification.png)\n",
    "\n",
    "Let's observe that creating a good separation (decision boundary) is not trivial as there might be an overlap between the regions. In this case using a straight line for a decision boundary would be called a `weak learner`, the black curve would be a `good fit` and the green wiggly line would be a model which overfits the data thus adds too much inportance to individual examples and learning even the noise."
   ]
  },
  {
   "cell_type": "markdown",
   "metadata": {},
   "source": [
    "### Logistic Regression"
   ]
  },
  {
   "cell_type": "markdown",
   "metadata": {},
   "source": [
    "The first model we will try for predicting defaults is Logistic Regression. The model takes a linear combination of the input features and then applying a nonlinearity for generating the decision boundry. More formally:\n",
    "$$ z = w_0 x_0 + w_1 x_1 +  ...  + w_n x_n = \\sum_{i=0}^n w_i x_i = w^T x $$\n",
    "where $x_0$ is always 1 by definition for convenience and the original features are contained by $x_1..x_n$.\n",
    "\n",
    "The higher the value of `z`, the more sure we are that we should predict `1`, the lower the value of `z` the more sure we are that we should predict `0`. Using the sigmoid function on `z` constrains the value of `z` between `(0,1)`:\n",
    "$$ sigmoid(z) = \\frac{1}{1 + e^{-z}}$$\n",
    "\n",
    "![Sigmoid](img\\sigmoid.svg)"
   ]
  },
  {
   "cell_type": "markdown",
   "metadata": {},
   "source": [
    "### Decision Trees"
   ]
  },
  {
   "cell_type": "markdown",
   "metadata": {},
   "source": [
    "Another popular supervised learning algorithm is the Decision Tree. The idea is to partition the data space by binary splits searching for the best split that distinguishes regions for the class in question. \n",
    "\n",
    "In the search for splits the algorithm optimizes an impurity measure at each step creating another branch on the tree.\n",
    "\n",
    "![DecisionTree](img\\dtree2.png)\n",
    "<center>Image source: https://dzone.com/refcardz/machine-learning-predictive?chapter=10 </center>\n",
    "\n",
    "The most used impurity measures are as follows:\n",
    "* Misclassification error: $1-p_k$\n",
    "* Gini index: $G(S) = \\sum_{k=1}^K p_k (1-p_k)$\n",
    "* Entropy: H(S) = $- \\sum_{k=1}^K p_k log(p_k)$\n",
    "\n",
    "What are decision trees good at?\n",
    "* Large datasets\n",
    "* Numeric and categorical variables (depends on implementation)\n",
    "* Human interpretable"
   ]
  },
  {
   "cell_type": "markdown",
   "metadata": {},
   "source": [
    "### Performance metrics"
   ]
  },
  {
   "cell_type": "markdown",
   "metadata": {
    "collapsed": true
   },
   "source": [
    "**Confusion matrix**\n",
    "\n",
    "We can construct a confusion matrix based on the correct and incorrect predictions of our model. Two very important measures are the True Positive Rate and False Positive Rate.\n",
    "\n",
    "![ConfusionMatrix](img\\confusion_matrix.png)\n",
    "\n",
    "**Accuracy**\n",
    "\n",
    "The accuracy of the model is probably the simplest metric we can come up with: it measures the ratio of correctly classified observation to all observations.\n",
    "\n",
    "$$Accuracy = \\frac{TP+TN}{TP+FP+TN+FN} = \\frac{TP+TN}{no. observations} $$\n",
    "\n",
    "**ROC curve**\n",
    "\n",
    "We can construct the ROC curve by varying the decision threshold for predicting class `0` or `1` and drawing the resulting TPR / FPR values. A model with a higher area under the curve (AUC) is considered better.\n",
    "\n",
    "![ROC](img\\roc.png)\n",
    "<center>Image source: https://docs.eyesopen.com/toolkits/cookbook/python/plotting/roc.html</center>"
   ]
  },
  {
   "cell_type": "markdown",
   "metadata": {},
   "source": [
    "### General Supervised Learning workflow"
   ]
  },
  {
   "cell_type": "markdown",
   "metadata": {},
   "source": [
    "The general workflow for supervised learning is as follows:\n",
    "* We gather historical data to build the model on\n",
    "* Split the data into two parts. Use random sampling!\n",
    "    * A later part to train the model on \n",
    "    * A smaller part to evaluate the model's performance on\n",
    "    * Question: what do you think is a good train/test split ratio?\n",
    "* Build the model on the training data without ever touching the test data.\n",
    "* Use the model and evaluate it's performance on the test data. We are basically simulating how the model performs on previously unseen data with unknown label. There are a lot of performance metrics used in the industry depending on the task at hand.\n",
    "* Deploy the model and use it in production for unlabeled data\n",
    "\n",
    "![SuperveisedLearningWorkflow](img\\sup_learning_workflow.png)"
   ]
  },
  {
   "cell_type": "markdown",
   "metadata": {},
   "source": [
    "## Financial product overview\n",
    "\n",
    "** Asset Backed Securities**\n",
    "\n",
    "First let's will learn about a very popular way to fund loans when the total size of the portfolio might be in the neighborhood of $1B. One of the widely used structure is called Asset Backed Securities. Let's take a look at a general structure for it:\n",
    "![Securitization](img\\securitization.png)\n",
    "\n",
    "As we mentioned in the previous lecture there are multiple approaches to assess usually depend on the granularity of data available.\n",
    "* Aggregated historical performance data can be used to create a high level assessment on different parts of the portfolio e.g. loans with more than 30 months maturity and more then 95% debt to income ratio are risky and we estimate 4% of them to default.\n",
    "* Loan level historical performance data can be used to create a predictive model to make a prediction on each loan individually.\n",
    "\n",
    "Cash flow from the assets are allocated using a waterfall structure to protect more senior notes from risk:\n",
    "\n",
    "![Waterfall](img\\waterfall.png)\n",
    "\n",
    "For certain type of ABS we can have a contract which allows us to replace undesirable loans with better ones.\n",
    "As you see the way this structure gives protection from losses works well in case the of systemic errors that our loan level predictive model might not even capture. \n",
    "\n",
    "*Just to note, data for Asset Backed Securities are usually private and confidential. They contain information that can not be shared outside the group doing the analysis. For this reason the dataset we are using is not actually data from an ABS but rather the LendingClub public personal loan dataset. For this short lecture it does not matter if the portfolio is securitized or not as we are working with the raw data.*"
   ]
  },
  {
   "cell_type": "markdown",
   "metadata": {},
   "source": [
    "## Load already cleaned data from previous lecture"
   ]
  },
  {
   "cell_type": "code",
   "execution_count": 51,
   "metadata": {
    "collapsed": true
   },
   "outputs": [],
   "source": [
    "import pandas as pd\n",
    "data = pd.read_pickle('Lendmark_clean.pkl')"
   ]
  },
  {
   "cell_type": "code",
   "execution_count": 52,
   "metadata": {
    "collapsed": true
   },
   "outputs": [],
   "source": [
    "#data = data.drop('last_pymnt_amnt', axis=1)"
   ]
  },
  {
   "cell_type": "code",
   "execution_count": 53,
   "metadata": {},
   "outputs": [
    {
     "data": {
      "text/html": [
       "<div>\n",
       "<style>\n",
       "    .dataframe thead tr:only-child th {\n",
       "        text-align: right;\n",
       "    }\n",
       "\n",
       "    .dataframe thead th {\n",
       "        text-align: left;\n",
       "    }\n",
       "\n",
       "    .dataframe tbody tr th {\n",
       "        vertical-align: top;\n",
       "    }\n",
       "</style>\n",
       "<table border=\"1\" class=\"dataframe\">\n",
       "  <thead>\n",
       "    <tr style=\"text-align: right;\">\n",
       "      <th></th>\n",
       "      <th>loan_amnt</th>\n",
       "      <th>term</th>\n",
       "      <th>int_rate</th>\n",
       "      <th>funded_amnt</th>\n",
       "      <th>grade</th>\n",
       "      <th>annual_inc</th>\n",
       "      <th>dti</th>\n",
       "      <th>delinq_2yrs</th>\n",
       "      <th>last_pymnt_amnt</th>\n",
       "      <th>emp_length</th>\n",
       "      <th>home_ownership</th>\n",
       "      <th>tax_liens</th>\n",
       "      <th>defaulted</th>\n",
       "    </tr>\n",
       "  </thead>\n",
       "  <tbody>\n",
       "    <tr>\n",
       "      <th>0</th>\n",
       "      <td>5000.0</td>\n",
       "      <td>36</td>\n",
       "      <td>10.65</td>\n",
       "      <td>5000.0</td>\n",
       "      <td>2</td>\n",
       "      <td>24000.0</td>\n",
       "      <td>27.65</td>\n",
       "      <td>0.0</td>\n",
       "      <td>171.62</td>\n",
       "      <td>10</td>\n",
       "      <td>RENT</td>\n",
       "      <td>0.0</td>\n",
       "      <td>0</td>\n",
       "    </tr>\n",
       "    <tr>\n",
       "      <th>1</th>\n",
       "      <td>2500.0</td>\n",
       "      <td>60</td>\n",
       "      <td>15.27</td>\n",
       "      <td>2500.0</td>\n",
       "      <td>3</td>\n",
       "      <td>30000.0</td>\n",
       "      <td>1.00</td>\n",
       "      <td>0.0</td>\n",
       "      <td>119.66</td>\n",
       "      <td>0</td>\n",
       "      <td>RENT</td>\n",
       "      <td>0.0</td>\n",
       "      <td>1</td>\n",
       "    </tr>\n",
       "    <tr>\n",
       "      <th>2</th>\n",
       "      <td>2400.0</td>\n",
       "      <td>36</td>\n",
       "      <td>15.96</td>\n",
       "      <td>2400.0</td>\n",
       "      <td>3</td>\n",
       "      <td>12252.0</td>\n",
       "      <td>8.72</td>\n",
       "      <td>0.0</td>\n",
       "      <td>649.91</td>\n",
       "      <td>10</td>\n",
       "      <td>RENT</td>\n",
       "      <td>0.0</td>\n",
       "      <td>0</td>\n",
       "    </tr>\n",
       "    <tr>\n",
       "      <th>3</th>\n",
       "      <td>10000.0</td>\n",
       "      <td>36</td>\n",
       "      <td>13.49</td>\n",
       "      <td>10000.0</td>\n",
       "      <td>3</td>\n",
       "      <td>49200.0</td>\n",
       "      <td>20.00</td>\n",
       "      <td>0.0</td>\n",
       "      <td>357.48</td>\n",
       "      <td>10</td>\n",
       "      <td>RENT</td>\n",
       "      <td>0.0</td>\n",
       "      <td>0</td>\n",
       "    </tr>\n",
       "    <tr>\n",
       "      <th>4</th>\n",
       "      <td>3000.0</td>\n",
       "      <td>60</td>\n",
       "      <td>12.69</td>\n",
       "      <td>3000.0</td>\n",
       "      <td>2</td>\n",
       "      <td>80000.0</td>\n",
       "      <td>17.94</td>\n",
       "      <td>0.0</td>\n",
       "      <td>67.30</td>\n",
       "      <td>1</td>\n",
       "      <td>RENT</td>\n",
       "      <td>0.0</td>\n",
       "      <td>0</td>\n",
       "    </tr>\n",
       "  </tbody>\n",
       "</table>\n",
       "</div>"
      ],
      "text/plain": [
       "   loan_amnt  term  int_rate  funded_amnt  grade  annual_inc    dti  \\\n",
       "0     5000.0    36     10.65       5000.0      2     24000.0  27.65   \n",
       "1     2500.0    60     15.27       2500.0      3     30000.0   1.00   \n",
       "2     2400.0    36     15.96       2400.0      3     12252.0   8.72   \n",
       "3    10000.0    36     13.49      10000.0      3     49200.0  20.00   \n",
       "4     3000.0    60     12.69       3000.0      2     80000.0  17.94   \n",
       "\n",
       "   delinq_2yrs  last_pymnt_amnt  emp_length home_ownership  tax_liens  \\\n",
       "0          0.0           171.62          10           RENT        0.0   \n",
       "1          0.0           119.66           0           RENT        0.0   \n",
       "2          0.0           649.91          10           RENT        0.0   \n",
       "3          0.0           357.48          10           RENT        0.0   \n",
       "4          0.0            67.30           1           RENT        0.0   \n",
       "\n",
       "   defaulted  \n",
       "0          0  \n",
       "1          1  \n",
       "2          0  \n",
       "3          0  \n",
       "4          0  "
      ]
     },
     "execution_count": 53,
     "metadata": {},
     "output_type": "execute_result"
    }
   ],
   "source": [
    "data.head()"
   ]
  },
  {
   "cell_type": "markdown",
   "metadata": {},
   "source": [
    "## Convert categorical variables to individual binaries\n",
    "Many models can't deal with categorical type data and can only accept numerical variables thus we need to encode contained information numerically somehow."
   ]
  },
  {
   "cell_type": "code",
   "execution_count": 54,
   "metadata": {},
   "outputs": [
    {
     "data": {
      "text/plain": [
       "array(['RENT', 'OWN', 'MORTGAGE', 'OTHER', 'NONE'], dtype=object)"
      ]
     },
     "execution_count": 54,
     "metadata": {},
     "output_type": "execute_result"
    }
   ],
   "source": [
    "data.home_ownership.unique()"
   ]
  },
  {
   "cell_type": "markdown",
   "metadata": {},
   "source": [
    "**Something to think about:** Why would it be a bad idea to encode this variable with integer values 1-5?"
   ]
  },
  {
   "cell_type": "markdown",
   "metadata": {},
   "source": [
    "The usual best practice is to encode a categorical variable of 5 unique values to 5 distinct binary columns (having values of 1 or 0). The resulting variable are sometimes called \"dummy variables\".\n",
    "\n",
    "There is a built in Pandas function that can help us achieve this. Let's see how it works:"
   ]
  },
  {
   "cell_type": "code",
   "execution_count": 55,
   "metadata": {},
   "outputs": [
    {
     "data": {
      "text/html": [
       "<div>\n",
       "<style>\n",
       "    .dataframe thead tr:only-child th {\n",
       "        text-align: right;\n",
       "    }\n",
       "\n",
       "    .dataframe thead th {\n",
       "        text-align: left;\n",
       "    }\n",
       "\n",
       "    .dataframe tbody tr th {\n",
       "        vertical-align: top;\n",
       "    }\n",
       "</style>\n",
       "<table border=\"1\" class=\"dataframe\">\n",
       "  <thead>\n",
       "    <tr style=\"text-align: right;\">\n",
       "      <th></th>\n",
       "      <th>home_ownership_MORTGAGE</th>\n",
       "      <th>home_ownership_NONE</th>\n",
       "      <th>home_ownership_OTHER</th>\n",
       "      <th>home_ownership_OWN</th>\n",
       "      <th>home_ownership_RENT</th>\n",
       "    </tr>\n",
       "  </thead>\n",
       "  <tbody>\n",
       "    <tr>\n",
       "      <th>0</th>\n",
       "      <td>0</td>\n",
       "      <td>0</td>\n",
       "      <td>0</td>\n",
       "      <td>0</td>\n",
       "      <td>1</td>\n",
       "    </tr>\n",
       "    <tr>\n",
       "      <th>1</th>\n",
       "      <td>0</td>\n",
       "      <td>0</td>\n",
       "      <td>0</td>\n",
       "      <td>0</td>\n",
       "      <td>1</td>\n",
       "    </tr>\n",
       "    <tr>\n",
       "      <th>2</th>\n",
       "      <td>0</td>\n",
       "      <td>0</td>\n",
       "      <td>0</td>\n",
       "      <td>0</td>\n",
       "      <td>1</td>\n",
       "    </tr>\n",
       "    <tr>\n",
       "      <th>3</th>\n",
       "      <td>0</td>\n",
       "      <td>0</td>\n",
       "      <td>0</td>\n",
       "      <td>0</td>\n",
       "      <td>1</td>\n",
       "    </tr>\n",
       "    <tr>\n",
       "      <th>4</th>\n",
       "      <td>0</td>\n",
       "      <td>0</td>\n",
       "      <td>0</td>\n",
       "      <td>0</td>\n",
       "      <td>1</td>\n",
       "    </tr>\n",
       "  </tbody>\n",
       "</table>\n",
       "</div>"
      ],
      "text/plain": [
       "   home_ownership_MORTGAGE  home_ownership_NONE  home_ownership_OTHER  \\\n",
       "0                        0                    0                     0   \n",
       "1                        0                    0                     0   \n",
       "2                        0                    0                     0   \n",
       "3                        0                    0                     0   \n",
       "4                        0                    0                     0   \n",
       "\n",
       "   home_ownership_OWN  home_ownership_RENT  \n",
       "0                   0                    1  \n",
       "1                   0                    1  \n",
       "2                   0                    1  \n",
       "3                   0                    1  \n",
       "4                   0                    1  "
      ]
     },
     "execution_count": 55,
     "metadata": {},
     "output_type": "execute_result"
    }
   ],
   "source": [
    "pd.get_dummies(data.home_ownership, prefix='home_ownership', prefix_sep='_').head()"
   ]
  },
  {
   "cell_type": "markdown",
   "metadata": {},
   "source": [
    "Let's create a version of the data wich contains the dummy variables but not the original one."
   ]
  },
  {
   "cell_type": "code",
   "execution_count": 56,
   "metadata": {
    "scrolled": false
   },
   "outputs": [
    {
     "data": {
      "text/html": [
       "<div>\n",
       "<style>\n",
       "    .dataframe thead tr:only-child th {\n",
       "        text-align: right;\n",
       "    }\n",
       "\n",
       "    .dataframe thead th {\n",
       "        text-align: left;\n",
       "    }\n",
       "\n",
       "    .dataframe tbody tr th {\n",
       "        vertical-align: top;\n",
       "    }\n",
       "</style>\n",
       "<table border=\"1\" class=\"dataframe\">\n",
       "  <thead>\n",
       "    <tr style=\"text-align: right;\">\n",
       "      <th></th>\n",
       "      <th>loan_amnt</th>\n",
       "      <th>term</th>\n",
       "      <th>int_rate</th>\n",
       "      <th>funded_amnt</th>\n",
       "      <th>grade</th>\n",
       "      <th>annual_inc</th>\n",
       "      <th>dti</th>\n",
       "      <th>delinq_2yrs</th>\n",
       "      <th>last_pymnt_amnt</th>\n",
       "      <th>emp_length</th>\n",
       "      <th>tax_liens</th>\n",
       "      <th>defaulted</th>\n",
       "      <th>home_ownership_MORTGAGE</th>\n",
       "      <th>home_ownership_NONE</th>\n",
       "      <th>home_ownership_OTHER</th>\n",
       "      <th>home_ownership_OWN</th>\n",
       "      <th>home_ownership_RENT</th>\n",
       "    </tr>\n",
       "  </thead>\n",
       "  <tbody>\n",
       "    <tr>\n",
       "      <th>0</th>\n",
       "      <td>5000.0</td>\n",
       "      <td>36</td>\n",
       "      <td>10.65</td>\n",
       "      <td>5000.0</td>\n",
       "      <td>2</td>\n",
       "      <td>24000.0</td>\n",
       "      <td>27.65</td>\n",
       "      <td>0.0</td>\n",
       "      <td>171.62</td>\n",
       "      <td>10</td>\n",
       "      <td>0.0</td>\n",
       "      <td>0</td>\n",
       "      <td>0</td>\n",
       "      <td>0</td>\n",
       "      <td>0</td>\n",
       "      <td>0</td>\n",
       "      <td>1</td>\n",
       "    </tr>\n",
       "    <tr>\n",
       "      <th>1</th>\n",
       "      <td>2500.0</td>\n",
       "      <td>60</td>\n",
       "      <td>15.27</td>\n",
       "      <td>2500.0</td>\n",
       "      <td>3</td>\n",
       "      <td>30000.0</td>\n",
       "      <td>1.00</td>\n",
       "      <td>0.0</td>\n",
       "      <td>119.66</td>\n",
       "      <td>0</td>\n",
       "      <td>0.0</td>\n",
       "      <td>1</td>\n",
       "      <td>0</td>\n",
       "      <td>0</td>\n",
       "      <td>0</td>\n",
       "      <td>0</td>\n",
       "      <td>1</td>\n",
       "    </tr>\n",
       "    <tr>\n",
       "      <th>2</th>\n",
       "      <td>2400.0</td>\n",
       "      <td>36</td>\n",
       "      <td>15.96</td>\n",
       "      <td>2400.0</td>\n",
       "      <td>3</td>\n",
       "      <td>12252.0</td>\n",
       "      <td>8.72</td>\n",
       "      <td>0.0</td>\n",
       "      <td>649.91</td>\n",
       "      <td>10</td>\n",
       "      <td>0.0</td>\n",
       "      <td>0</td>\n",
       "      <td>0</td>\n",
       "      <td>0</td>\n",
       "      <td>0</td>\n",
       "      <td>0</td>\n",
       "      <td>1</td>\n",
       "    </tr>\n",
       "    <tr>\n",
       "      <th>3</th>\n",
       "      <td>10000.0</td>\n",
       "      <td>36</td>\n",
       "      <td>13.49</td>\n",
       "      <td>10000.0</td>\n",
       "      <td>3</td>\n",
       "      <td>49200.0</td>\n",
       "      <td>20.00</td>\n",
       "      <td>0.0</td>\n",
       "      <td>357.48</td>\n",
       "      <td>10</td>\n",
       "      <td>0.0</td>\n",
       "      <td>0</td>\n",
       "      <td>0</td>\n",
       "      <td>0</td>\n",
       "      <td>0</td>\n",
       "      <td>0</td>\n",
       "      <td>1</td>\n",
       "    </tr>\n",
       "    <tr>\n",
       "      <th>4</th>\n",
       "      <td>3000.0</td>\n",
       "      <td>60</td>\n",
       "      <td>12.69</td>\n",
       "      <td>3000.0</td>\n",
       "      <td>2</td>\n",
       "      <td>80000.0</td>\n",
       "      <td>17.94</td>\n",
       "      <td>0.0</td>\n",
       "      <td>67.30</td>\n",
       "      <td>1</td>\n",
       "      <td>0.0</td>\n",
       "      <td>0</td>\n",
       "      <td>0</td>\n",
       "      <td>0</td>\n",
       "      <td>0</td>\n",
       "      <td>0</td>\n",
       "      <td>1</td>\n",
       "    </tr>\n",
       "  </tbody>\n",
       "</table>\n",
       "</div>"
      ],
      "text/plain": [
       "   loan_amnt  term  int_rate  funded_amnt  grade  annual_inc    dti  \\\n",
       "0     5000.0    36     10.65       5000.0      2     24000.0  27.65   \n",
       "1     2500.0    60     15.27       2500.0      3     30000.0   1.00   \n",
       "2     2400.0    36     15.96       2400.0      3     12252.0   8.72   \n",
       "3    10000.0    36     13.49      10000.0      3     49200.0  20.00   \n",
       "4     3000.0    60     12.69       3000.0      2     80000.0  17.94   \n",
       "\n",
       "   delinq_2yrs  last_pymnt_amnt  emp_length  tax_liens  defaulted  \\\n",
       "0          0.0           171.62          10        0.0          0   \n",
       "1          0.0           119.66           0        0.0          1   \n",
       "2          0.0           649.91          10        0.0          0   \n",
       "3          0.0           357.48          10        0.0          0   \n",
       "4          0.0            67.30           1        0.0          0   \n",
       "\n",
       "   home_ownership_MORTGAGE  home_ownership_NONE  home_ownership_OTHER  \\\n",
       "0                        0                    0                     0   \n",
       "1                        0                    0                     0   \n",
       "2                        0                    0                     0   \n",
       "3                        0                    0                     0   \n",
       "4                        0                    0                     0   \n",
       "\n",
       "   home_ownership_OWN  home_ownership_RENT  \n",
       "0                   0                    1  \n",
       "1                   0                    1  \n",
       "2                   0                    1  \n",
       "3                   0                    1  \n",
       "4                   0                    1  "
      ]
     },
     "execution_count": 56,
     "metadata": {},
     "output_type": "execute_result"
    }
   ],
   "source": [
    "cols = data.columns.tolist()\n",
    "cols.remove('home_ownership')\n",
    "\n",
    "data_dummy = pd.get_dummies(data.home_ownership, prefix='home_ownership', prefix_sep='_')\n",
    "data_dummy = data[cols].join(data_dummy)\n",
    "data_dummy.head()"
   ]
  },
  {
   "cell_type": "code",
   "execution_count": 57,
   "metadata": {
    "scrolled": false
   },
   "outputs": [
    {
     "name": "stdout",
     "output_type": "stream",
     "text": [
      "<class 'pandas.core.frame.DataFrame'>\n",
      "Int64Index: 39747 entries, 0 to 39753\n",
      "Data columns (total 17 columns):\n",
      "loan_amnt                  39747 non-null float64\n",
      "term                       39747 non-null int64\n",
      "int_rate                   39747 non-null float64\n",
      "funded_amnt                39747 non-null float64\n",
      "grade                      39747 non-null int64\n",
      "annual_inc                 39747 non-null float64\n",
      "dti                        39747 non-null float64\n",
      "delinq_2yrs                39747 non-null float64\n",
      "last_pymnt_amnt            39747 non-null float64\n",
      "emp_length                 39747 non-null int64\n",
      "tax_liens                  39747 non-null float64\n",
      "defaulted                  39747 non-null int64\n",
      "home_ownership_MORTGAGE    39747 non-null uint8\n",
      "home_ownership_NONE        39747 non-null uint8\n",
      "home_ownership_OTHER       39747 non-null uint8\n",
      "home_ownership_OWN         39747 non-null uint8\n",
      "home_ownership_RENT        39747 non-null uint8\n",
      "dtypes: float64(8), int64(4), uint8(5)\n",
      "memory usage: 5.4 MB\n"
     ]
    }
   ],
   "source": [
    "data_dummy.info()"
   ]
  },
  {
   "cell_type": "markdown",
   "metadata": {},
   "source": [
    "Now all variables are numerical. Some implementations of algorithms like decision trees can natively handle categorical variables but most algorithms and most implementaqtions can not. In case there is no self evident ordering of the categories that would make it straight forward to convert it to integer values, it is best to create dummy binaries. "
   ]
  },
  {
   "cell_type": "markdown",
   "metadata": {},
   "source": [
    "## Train-test split"
   ]
  },
  {
   "cell_type": "code",
   "execution_count": 58,
   "metadata": {
    "collapsed": true
   },
   "outputs": [],
   "source": [
    "from sklearn.model_selection import train_test_split"
   ]
  },
  {
   "cell_type": "markdown",
   "metadata": {},
   "source": [
    "Let's separate the columns for the features and the response variable.\n",
    "We'll store the features in a matrix and the response variable in a vector."
   ]
  },
  {
   "cell_type": "code",
   "execution_count": 59,
   "metadata": {
    "collapsed": true
   },
   "outputs": [],
   "source": [
    "x_cols = data_dummy.columns.tolist()\n",
    "x_cols.remove('defaulted')\n",
    "y_col = 'defaulted'\n",
    "\n",
    "X = data_dummy[x_cols].values\n",
    "y = data_dummy[y_col].values"
   ]
  },
  {
   "cell_type": "code",
   "execution_count": 60,
   "metadata": {},
   "outputs": [
    {
     "name": "stdout",
     "output_type": "stream",
     "text": [
      "Shape of X: (39747, 16)\n",
      "Shape of y: (39747,)\n"
     ]
    }
   ],
   "source": [
    "print('Shape of X: {}'.format(X.shape))\n",
    "print('Shape of y: {}'.format(y.shape))"
   ]
  },
  {
   "cell_type": "code",
   "execution_count": 61,
   "metadata": {},
   "outputs": [
    {
     "name": "stdout",
     "output_type": "stream",
     "text": [
      "Features of row 1: [  5.00000000e+03   3.60000000e+01   1.06500000e+01   5.00000000e+03\n",
      "   2.00000000e+00   2.40000000e+04   2.76500000e+01   0.00000000e+00\n",
      "   1.71620000e+02   1.00000000e+01   0.00000000e+00   0.00000000e+00\n",
      "   0.00000000e+00   0.00000000e+00   0.00000000e+00   1.00000000e+00]\n",
      "Response variable of row 1: 0\n"
     ]
    }
   ],
   "source": [
    "print('Features of row 1: {}'.format(X[0,:]))\n",
    "print('Response variable of row 1: {}'.format(y[0]))"
   ]
  },
  {
   "cell_type": "markdown",
   "metadata": {},
   "source": [
    "Now let's do the train/test split."
   ]
  },
  {
   "cell_type": "code",
   "execution_count": 62,
   "metadata": {
    "collapsed": true
   },
   "outputs": [],
   "source": [
    "X_train, X_test, y_train, y_test = train_test_split(X,y, test_size=0.2)"
   ]
  },
  {
   "cell_type": "code",
   "execution_count": 63,
   "metadata": {},
   "outputs": [
    {
     "name": "stdout",
     "output_type": "stream",
     "text": [
      "Shape of X_train: (31797, 16)\n",
      "Shape of X_test: (7950, 16)\n",
      "Shape of y_train: (31797,)\n",
      "Shape of y_test: (7950,)\n"
     ]
    }
   ],
   "source": [
    "print('Shape of X_train: {}'.format(X_train.shape))\n",
    "print('Shape of X_test: {}'.format(X_test.shape))\n",
    "print('Shape of y_train: {}'.format(y_train.shape))\n",
    "print('Shape of y_test: {}'.format(y_test.shape))"
   ]
  },
  {
   "cell_type": "code",
   "execution_count": 64,
   "metadata": {},
   "outputs": [
    {
     "name": "stdout",
     "output_type": "stream",
     "text": [
      "Features of row 1: [  3.50000000e+04   6.00000000e+01   1.78800000e+01   2.80750000e+04\n",
      "   5.00000000e+00   1.20000000e+05   1.48700000e+01   0.00000000e+00\n",
      "   6.11622000e+03   1.00000000e+01   0.00000000e+00   1.00000000e+00\n",
      "   0.00000000e+00   0.00000000e+00   0.00000000e+00   0.00000000e+00]\n",
      "Response variable of row 1: 0\n"
     ]
    }
   ],
   "source": [
    "print('Features of row 1: {}'.format(X_train[0,:]))\n",
    "print('Response variable of row 1: {}'.format(y_train[0]))"
   ]
  },
  {
   "cell_type": "code",
   "execution_count": 65,
   "metadata": {},
   "outputs": [
    {
     "name": "stdout",
     "output_type": "stream",
     "text": [
      "Features of row 1: [  4.25000000e+03   6.00000000e+01   1.34900000e+01   4.25000000e+03\n",
      "   3.00000000e+00   3.00000000e+04   1.81200000e+01   0.00000000e+00\n",
      "   1.11051000e+03   7.00000000e+00   0.00000000e+00   0.00000000e+00\n",
      "   0.00000000e+00   0.00000000e+00   0.00000000e+00   1.00000000e+00]\n",
      "Response variable of row 1: 0\n"
     ]
    }
   ],
   "source": [
    "print('Features of row 1: {}'.format(X_test[0,:]))\n",
    "print('Response variable of row 1: {}'.format(y_test[0]))"
   ]
  },
  {
   "cell_type": "markdown",
   "metadata": {},
   "source": [
    "## First try for prediction with Logistic Regression"
   ]
  },
  {
   "cell_type": "markdown",
   "metadata": {},
   "source": [
    "** Code for plotting ROC curve and Confusion matrix **"
   ]
  },
  {
   "cell_type": "code",
   "execution_count": 66,
   "metadata": {
    "code_folding": [
     3
    ],
    "collapsed": true
   },
   "outputs": [],
   "source": [
    "import matplotlib.pyplot as plt\n",
    "from sklearn.metrics import roc_curve\n",
    "\n",
    "def draw_roc_curve(actual_values, **predicted_probabilities):\n",
    "    plt.figure(figsize=(6, 6))\n",
    "    plt.plot([0, 1], [0, 1], 'r--', label='Random guessing')\n",
    "    for name, pred in predicted_probabilities.items():\n",
    "        fpr, tpr, thresholds = roc_curve(actual_values, pred)\n",
    "        plt.plot(fpr, tpr, lw=2, label='ROC curve for %s' % name)\n",
    "    plt.xlim([0, 1])\n",
    "    plt.ylim([0, 1])\n",
    "    plt.xlabel('False Positive Rate')\n",
    "    plt.ylabel('True Positive Rate')\n",
    "    plt.title('Receiver operating characteristic example')\n",
    "    plt.legend(loc=\"lower right\")\n",
    "    plt.show()"
   ]
  },
  {
   "cell_type": "code",
   "execution_count": 67,
   "metadata": {
    "code_folding": [
     2
    ],
    "collapsed": true
   },
   "outputs": [],
   "source": [
    "import itertools\n",
    "import numpy as np\n",
    "from sklearn.metrics import confusion_matrix\n",
    "def plot_confusion_matrix(cm, classes,\n",
    "                          normalize=False,\n",
    "                          title='Confusion matrix',\n",
    "                          cmap=plt.cm.Blues):\n",
    "    \"\"\"\n",
    "    This function prints and plots the confusion matrix.\n",
    "    Normalization can be applied by setting `normalize=True`.\n",
    "    \"\"\"\n",
    "    if normalize:\n",
    "        cm = cm.astype('float') / cm.sum(axis=1)[:, np.newaxis]\n",
    "        print(\"Normalized confusion matrix\")\n",
    "    else:\n",
    "        print('Confusion matrix, without normalization')\n",
    "\n",
    "    print(cm)\n",
    "\n",
    "    plt.imshow(cm, interpolation='nearest', cmap=cmap)\n",
    "    plt.title(title)\n",
    "    plt.colorbar()\n",
    "    tick_marks = np.arange(len(classes))\n",
    "    plt.xticks(tick_marks, classes, rotation=45)\n",
    "    plt.yticks(tick_marks, classes)\n",
    "\n",
    "    fmt = '.2f' if normalize else 'd'\n",
    "    thresh = cm.max() / 2.\n",
    "    for i, j in itertools.product(range(cm.shape[0]), range(cm.shape[1])):\n",
    "        plt.text(j, i, format(cm[i, j], fmt),\n",
    "                 horizontalalignment=\"center\",\n",
    "                 color=\"white\" if cm[i, j] > thresh else \"black\")\n",
    "\n",
    "    plt.tight_layout()\n",
    "    plt.ylabel('True label')\n",
    "    plt.xlabel('Predicted label')\n",
    "    plt.show()"
   ]
  },
  {
   "cell_type": "markdown",
   "metadata": {},
   "source": [
    "### Using Logistic Regression from Scikit-Learn\n",
    "Let's try logistic regression and see how it performs."
   ]
  },
  {
   "cell_type": "code",
   "execution_count": 68,
   "metadata": {
    "collapsed": true
   },
   "outputs": [],
   "source": [
    "from sklearn import linear_model,svm\n",
    "from sklearn.metrics import accuracy_score, confusion_matrix, roc_auc_score\n",
    "\n",
    "lrmodel0 = linear_model.LogisticRegression(C=1000)\n",
    "lrmodel0 = lrmodel0.fit(X_train, y_train)\n",
    "pred_lr0_train = lrmodel0.predict(X_train)\n",
    "prob_lr0_train = lrmodel0.predict_proba(X_train)[:,1]\n",
    "pred_lr0_test = lrmodel0.predict(X_test)\n",
    "prob_lr0_test = lrmodel0.predict_proba(X_test)[:,1]"
   ]
  },
  {
   "cell_type": "code",
   "execution_count": 69,
   "metadata": {},
   "outputs": [
    {
     "name": "stdout",
     "output_type": "stream",
     "text": [
      "Performance of the first Logistic Regression model:\n",
      "Accuracy (train):  0.857722426644\n",
      "Area Under ROC curve (train): 0.795636307648\n",
      "Accuracy (test):  0.856855345912\n",
      "Area Under ROC curve (test): 0.79201129522\n"
     ]
    }
   ],
   "source": [
    "print(\"Performance of the first Logistic Regression model:\")\n",
    "print(\"Accuracy (train): \", accuracy_score(y_train, pred_lr0_train) )\n",
    "print(\"Area Under ROC curve (train):\", roc_auc_score(y_train, prob_lr0_train) )\n",
    "print(\"Accuracy (test): \", accuracy_score(y_test, pred_lr0_test) )\n",
    "print(\"Area Under ROC curve (test):\", roc_auc_score(y_test, prob_lr0_test) )"
   ]
  },
  {
   "cell_type": "code",
   "execution_count": 70,
   "metadata": {},
   "outputs": [
    {
     "data": {
      "image/png": "[encoded data removed]",
      "text/plain": [
       "<matplotlib.figure.Figure at 0x1d778d2e6a0>"
      ]
     },
     "metadata": {},
     "output_type": "display_data"
    },
    {
     "data": {
      "image/png": "[encoded data removed]",
      "text/plain": [
       "<matplotlib.figure.Figure at 0x1d77a997e10>"
      ]
     },
     "metadata": {},
     "output_type": "display_data"
    }
   ],
   "source": [
    "draw_roc_curve(y_test, regression=prob_lr0_test)"
   ]
  },
  {
   "cell_type": "markdown",
   "metadata": {},
   "source": [
    "### Why the bad performance?\n",
    "\n",
    "**A good 86% accuracy, nice! Or is it ?!**\n",
    "* We are at 86% accuracy, which seems good just by itself.\n",
    "* A random guess based on class frequency (no information gain) would be an AUC of 0.5, which we just bearly beat, meaning not much information gain.\n",
    "\n",
    "It seems we still have a lot to improve..."
   ]
  },
  {
   "cell_type": "markdown",
   "metadata": {},
   "source": [
    "**What is happening?**\n",
    "Let's see a historgram of the predicted class probabilities:"
   ]
  },
  {
   "cell_type": "code",
   "execution_count": 21,
   "metadata": {},
   "outputs": [
    {
     "data": {
      "image/png": "[encoded data removed]",
      "text/plain": [
       "<matplotlib.figure.Figure at 0x1d776af34e0>"
      ]
     },
     "metadata": {},
     "output_type": "display_data"
    }
   ],
   "source": [
    "import matplotlib.pyplot as plt\n",
    "plt.hist(lrmodel0.predict_proba(X_test)[:,1], bins=50)\n",
    "plt.show()"
   ]
  },
  {
   "cell_type": "code",
   "execution_count": 22,
   "metadata": {},
   "outputs": [
    {
     "name": "stdout",
     "output_type": "stream",
     "text": [
      "The maximum default probability predicted for any loan:  0.832871174997\n"
     ]
    }
   ],
   "source": [
    "print('The maximum default probability predicted for any loan: ', max(prob_lr0_test))"
   ]
  },
  {
   "cell_type": "code",
   "execution_count": 23,
   "metadata": {},
   "outputs": [
    {
     "name": "stdout",
     "output_type": "stream",
     "text": [
      "Confusion matrix, without normalization\n",
      "[[6726   63]\n",
      " [1084   77]]\n"
     ]
    },
    {
     "data": {
      "image/png": "[encoded data removed]",
      "text/plain": [
       "<matplotlib.figure.Figure at 0x1d77a6488d0>"
      ]
     },
     "metadata": {},
     "output_type": "display_data"
    }
   ],
   "source": [
    "cm = confusion_matrix(y_test, pred_lr0_test)\n",
    "classes = ['Not defaulted', 'Defaulted']\n",
    "plot_confusion_matrix(cm, classes,\n",
    "                          normalize=False,\n",
    "                          title='Confusion matrix',\n",
    "                          cmap=plt.cm.Blues)"
   ]
  },
  {
   "cell_type": "markdown",
   "metadata": {},
   "source": [
    "### Exercise: What do you think is the problem?"
   ]
  },
  {
   "cell_type": "code",
   "execution_count": null,
   "metadata": {
    "collapsed": true
   },
   "outputs": [],
   "source": []
  },
  {
   "cell_type": "markdown",
   "metadata": {},
   "source": [
    "## Dealing with class imbalance"
   ]
  },
  {
   "cell_type": "markdown",
   "metadata": {},
   "source": [
    "Let us examine how many positive/negative examples we have in the original dataset."
   ]
  },
  {
   "cell_type": "code",
   "execution_count": 24,
   "metadata": {},
   "outputs": [
    {
     "data": {
      "text/plain": [
       "0    34078\n",
       "1     5669\n",
       "Name: defaulted, dtype: int64"
      ]
     },
     "execution_count": 24,
     "metadata": {},
     "output_type": "execute_result"
    }
   ],
   "source": [
    "data_dummy.defaulted.value_counts()"
   ]
  },
  {
   "cell_type": "code",
   "execution_count": 25,
   "metadata": {},
   "outputs": [
    {
     "name": "stdout",
     "output_type": "stream",
     "text": [
      "Ratio of negative examples:  0.857372883488\n"
     ]
    }
   ],
   "source": [
    "print(\"Ratio of negative examples: \", 1-sum(data_dummy.defaulted)/len(data_dummy.defaulted))"
   ]
  },
  {
   "cell_type": "markdown",
   "metadata": {},
   "source": [
    "### Exercise: Think about what is the simplest model that would give ~85% accuracy? Would that be a useful model?"
   ]
  },
  {
   "cell_type": "code",
   "execution_count": null,
   "metadata": {
    "collapsed": true
   },
   "outputs": [],
   "source": []
  },
  {
   "cell_type": "markdown",
   "metadata": {},
   "source": [
    "As we see defaulted loans represent less than 15% of the examples. The class imbalance problem occurs quite often and it provides the challenge that while we are usually interested in predicting the minotiry class (e.g. defaults) thus we have less information for the class in question."
   ]
  },
  {
   "cell_type": "markdown",
   "metadata": {},
   "source": [
    "### Downsampling the training set"
   ]
  },
  {
   "cell_type": "markdown",
   "metadata": {},
   "source": [
    "There are multiple solutions for the class imbalance problem:\n",
    "    * Downsampling: keep a smaller random sample of the majority class.\n",
    "    * Upsampling: Duplicate records of the minority class.\n",
    "    * Advanced methods: modifying the cost function, adding example weights, etc...\n",
    "    \n",
    "For more detail on techniques, I encourage you to check out this blog post: https://www.kdnuggets.com/2017/06/7-techniques-handle-imbalanced-data.html\n",
    "\n",
    "For this lecture we will implement downsampling. "
   ]
  },
  {
   "cell_type": "markdown",
   "metadata": {},
   "source": [
    "Let's theck the shape of our training dataset after the split."
   ]
  },
  {
   "cell_type": "code",
   "execution_count": 26,
   "metadata": {},
   "outputs": [
    {
     "name": "stdout",
     "output_type": "stream",
     "text": [
      "(31797, 16)\n"
     ]
    }
   ],
   "source": [
    "print(X_train.shape)"
   ]
  },
  {
   "cell_type": "markdown",
   "metadata": {},
   "source": [
    "Now let's split the data by the class values."
   ]
  },
  {
   "cell_type": "code",
   "execution_count": 27,
   "metadata": {
    "collapsed": true
   },
   "outputs": [],
   "source": [
    "df_def0 = X_train[y_train==0, :]\n",
    "df_def1 = X_train[y_train==1, :]"
   ]
  },
  {
   "cell_type": "code",
   "execution_count": 28,
   "metadata": {},
   "outputs": [
    {
     "name": "stdout",
     "output_type": "stream",
     "text": [
      "(27289, 16)\n",
      "(4508, 16)\n"
     ]
    }
   ],
   "source": [
    "print(df_def0.shape)\n",
    "print(df_def1.shape)"
   ]
  },
  {
   "cell_type": "markdown",
   "metadata": {},
   "source": [
    "We can use scikit-learn's `resample` function to generate a new sample from an array or a dataframe. As we are downsampling and not upsampling, we will sample without replacement."
   ]
  },
  {
   "cell_type": "code",
   "execution_count": 29,
   "metadata": {
    "collapsed": true
   },
   "outputs": [],
   "source": [
    "from sklearn.utils import resample\n",
    "df_def0_downsample = resample(df_def0, \n",
    "                                 replace=False,\n",
    "                                 n_samples=len(df_def1), # matching the minority class (number of defaulted loans)\n",
    "                                 random_state=1)"
   ]
  },
  {
   "cell_type": "code",
   "execution_count": 30,
   "metadata": {},
   "outputs": [
    {
     "name": "stdout",
     "output_type": "stream",
     "text": [
      "(4508, 16)\n",
      "(4508, 16)\n"
     ]
    }
   ],
   "source": [
    "print(df_def0_downsample.shape)\n",
    "print(df_def1.shape)"
   ]
  },
  {
   "cell_type": "markdown",
   "metadata": {},
   "source": [
    "Now that we have the same number of examples for both the 0 and 1 classes we can combine the records again to one object."
   ]
  },
  {
   "cell_type": "code",
   "execution_count": 31,
   "metadata": {
    "collapsed": true
   },
   "outputs": [],
   "source": [
    "import numpy as np\n",
    "# Combine minority class with downsampled majority class\n",
    "X_train = np.concatenate((df_def0_downsample, df_def1))\n",
    "y_train = np.concatenate((np.zeros(len(df_def0_downsample)), np.ones(len(df_def1))))"
   ]
  },
  {
   "cell_type": "code",
   "execution_count": 32,
   "metadata": {},
   "outputs": [
    {
     "name": "stdout",
     "output_type": "stream",
     "text": [
      "(9016, 16)\n"
     ]
    }
   ],
   "source": [
    "print(X_train.shape)"
   ]
  },
  {
   "cell_type": "code",
   "execution_count": 33,
   "metadata": {},
   "outputs": [
    {
     "name": "stdout",
     "output_type": "stream",
     "text": [
      "(9016,)\n"
     ]
    }
   ],
   "source": [
    "print(y_train.shape)"
   ]
  },
  {
   "cell_type": "markdown",
   "metadata": {},
   "source": [
    "**Something to think about:** \n",
    "\n",
    "Why did we only downsample the training dataset but not the test dataset?\n",
    "We need class balance when training a model but we need the real class ratios for assessing the model's performance."
   ]
  },
  {
   "cell_type": "markdown",
   "metadata": {},
   "source": [
    "## Prediction after solved class imbalance: Logistic Regression, Decision Tree"
   ]
  },
  {
   "cell_type": "code",
   "execution_count": 34,
   "metadata": {
    "collapsed": true
   },
   "outputs": [],
   "source": [
    "from sklearn import linear_model\n",
    "from sklearn.metrics import accuracy_score, confusion_matrix, roc_auc_score"
   ]
  },
  {
   "cell_type": "markdown",
   "metadata": {},
   "source": [
    "### Logistic regression"
   ]
  },
  {
   "cell_type": "code",
   "execution_count": 35,
   "metadata": {
    "collapsed": true
   },
   "outputs": [],
   "source": [
    "lrmodel1 = linear_model.LogisticRegression(C=1000)\n",
    "lrmodel1 = lrmodel1.fit(X_train, y_train)"
   ]
  },
  {
   "cell_type": "code",
   "execution_count": 36,
   "metadata": {
    "collapsed": true
   },
   "outputs": [],
   "source": [
    "pred_lr1_train = lrmodel1.predict(X_train)\n",
    "prob_lr1_train = lrmodel1.predict_proba(X_train)[:,1]\n",
    "pred_lr1_test = lrmodel1.predict(X_test)\n",
    "prob_lr1_test = lrmodel1.predict_proba(X_test)[:,1]"
   ]
  },
  {
   "cell_type": "code",
   "execution_count": 37,
   "metadata": {
    "scrolled": false
   },
   "outputs": [
    {
     "name": "stdout",
     "output_type": "stream",
     "text": [
      "Confusion matrix, without normalization\n",
      "[[3961 2828]\n",
      " [  84 1077]]\n"
     ]
    },
    {
     "data": {
      "image/png": "[encoded data removed]",
      "text/plain": [
       "<matplotlib.figure.Figure at 0x1d77a9752e8>"
      ]
     },
     "metadata": {},
     "output_type": "display_data"
    }
   ],
   "source": [
    "cm = confusion_matrix(y_test, pred_lr1_test)\n",
    "classes = ['Not defaulted', 'Defaulted']\n",
    "plot_confusion_matrix(cm, classes,\n",
    "                          normalize=False,\n",
    "                          title='Confusion matrix',\n",
    "                          cmap=plt.cm.Blues)"
   ]
  },
  {
   "cell_type": "code",
   "execution_count": 38,
   "metadata": {},
   "outputs": [
    {
     "name": "stdout",
     "output_type": "stream",
     "text": [
      "Performance of the Logistic Regression model:\n",
      "Accuracy (train):  0.765638864241\n",
      "Area Under ROC curve (train): 0.849177130827\n",
      "Accuracy (test):  0.633710691824\n",
      "Area Under ROC curve (test): 0.842721334824\n"
     ]
    }
   ],
   "source": [
    "print(\"Performance of the Logistic Regression model:\")\n",
    "print(\"Accuracy (train): \", accuracy_score(y_train, pred_lr1_train) )\n",
    "print(\"Area Under ROC curve (train):\", roc_auc_score(y_train, prob_lr1_train) )\n",
    "print(\"Accuracy (test): \", accuracy_score(y_test, pred_lr1_test) )\n",
    "print(\"Area Under ROC curve (test):\", roc_auc_score(y_test, prob_lr1_test) )"
   ]
  },
  {
   "cell_type": "markdown",
   "metadata": {},
   "source": [
    "** ROC curve comparing the model created before and after class imbalance correction**"
   ]
  },
  {
   "cell_type": "code",
   "execution_count": 39,
   "metadata": {},
   "outputs": [
    {
     "data": {
      "image/png": "[encoded data removed]",
      "text/plain": [
       "<matplotlib.figure.Figure at 0x1d778d0dc88>"
      ]
     },
     "metadata": {},
     "output_type": "display_data"
    }
   ],
   "source": [
    "draw_roc_curve(y_test, regression_0=prob_lr0_test, regression_1=prob_lr1_test)"
   ]
  },
  {
   "cell_type": "markdown",
   "metadata": {},
   "source": [
    "### Decision Tree\n",
    "\n",
    "Use max depth of 4 with min sample leafs 5"
   ]
  },
  {
   "cell_type": "code",
   "execution_count": 40,
   "metadata": {
    "collapsed": true
   },
   "outputs": [],
   "source": [
    "from sklearn import tree"
   ]
  },
  {
   "cell_type": "code",
   "execution_count": 41,
   "metadata": {},
   "outputs": [
    {
     "data": {
      "text/plain": [
       "DecisionTreeClassifier(class_weight=None, criterion='gini', max_depth=4,\n",
       "            max_features=None, max_leaf_nodes=None,\n",
       "            min_impurity_decrease=0.0, min_impurity_split=None,\n",
       "            min_samples_leaf=5, min_samples_split=2,\n",
       "            min_weight_fraction_leaf=0.0, presort=False, random_state=None,\n",
       "            splitter='best')"
      ]
     },
     "execution_count": 41,
     "metadata": {},
     "output_type": "execute_result"
    }
   ],
   "source": [
    "treemodel = tree.DecisionTreeClassifier(max_depth=4, min_samples_leaf =5)\n",
    "treemodel = treemodel.fit(X_train, y_train)\n",
    "treemodel"
   ]
  },
  {
   "cell_type": "code",
   "execution_count": 42,
   "metadata": {
    "collapsed": true
   },
   "outputs": [],
   "source": [
    "pred_tree_train = treemodel.predict(X_train)\n",
    "prob_tree_train = treemodel.predict_proba(X_train)[:,1]\n",
    "pred_tree_test = treemodel.predict(X_test)\n",
    "prob_tree_test = treemodel.predict_proba(X_test)[:,1]"
   ]
  },
  {
   "cell_type": "code",
   "execution_count": 43,
   "metadata": {},
   "outputs": [
    {
     "name": "stdout",
     "output_type": "stream",
     "text": [
      "Performance of the Decision Tree model:\n",
      "Accuracy (train):  0.761091393079\n",
      "Area Under ROC curve (train): 0.840164119156\n",
      "Accuracy (test):  0.670440251572\n",
      "Area Under ROC curve (test): 0.830847869248\n"
     ]
    }
   ],
   "source": [
    "print(\"Performance of the Decision Tree model:\")\n",
    "print(\"Accuracy (train): \", accuracy_score(y_train, pred_tree_train) )\n",
    "print(\"Area Under ROC curve (train):\", roc_auc_score(y_train, prob_tree_train) )\n",
    "print(\"Accuracy (test): \", accuracy_score(y_test, pred_tree_test) )\n",
    "print(\"Area Under ROC curve (test):\", roc_auc_score(y_test, prob_tree_test) )"
   ]
  },
  {
   "cell_type": "code",
   "execution_count": 44,
   "metadata": {},
   "outputs": [
    {
     "name": "stdout",
     "output_type": "stream",
     "text": [
      "Confusion matrix, without normalization\n",
      "[[4319 2470]\n",
      " [ 150 1011]]\n"
     ]
    },
    {
     "data": {
      "image/png": "[encoded data removed]",
      "text/plain": [
       "<matplotlib.figure.Figure at 0x1d778d0dda0>"
      ]
     },
     "metadata": {},
     "output_type": "display_data"
    }
   ],
   "source": [
    "cm = confusion_matrix(y_test, pred_tree_test)\n",
    "classes = ['Not defaulted', 'Defaulted']\n",
    "plot_confusion_matrix(cm, classes,\n",
    "                          normalize=False,\n",
    "                          title='Confusion matrix',\n",
    "                          cmap=plt.cm.Blues)"
   ]
  },
  {
   "cell_type": "code",
   "execution_count": 45,
   "metadata": {
    "scrolled": false
   },
   "outputs": [
    {
     "data": {
      "image/png": "[encoded data removed]",
      "text/plain": [
       "<matplotlib.figure.Figure at 0x1d778db66d8>"
      ]
     },
     "metadata": {},
     "output_type": "display_data"
    }
   ],
   "source": [
    "draw_roc_curve(y_test, regression_0=prob_lr0_test, regression_1=prob_lr1_test, tree=prob_tree_test)"
   ]
  },
  {
   "cell_type": "code",
   "execution_count": 48,
   "metadata": {},
   "outputs": [
    {
     "ename": "NameError",
     "evalue": "name 'classifier' is not defined",
     "output_type": "error",
     "traceback": [
      "\u001b[1;31m---------------------------------------------------------------------------\u001b[0m",
      "\u001b[1;31mNameError\u001b[0m                                 Traceback (most recent call last)",
      "\u001b[1;32m<ipython-input-48-f77cb50aef2a>\u001b[0m in \u001b[0;36m<module>\u001b[1;34m()\u001b[0m\n\u001b[0;32m      1\u001b[0m \u001b[1;32mfrom\u001b[0m \u001b[0msklearn\u001b[0m\u001b[1;33m.\u001b[0m\u001b[0mmetrics\u001b[0m \u001b[1;32mimport\u001b[0m \u001b[0maverage_precision_score\u001b[0m\u001b[1;33m\u001b[0m\u001b[0m\n\u001b[0;32m      2\u001b[0m \u001b[1;33m\u001b[0m\u001b[0m\n\u001b[1;32m----> 3\u001b[1;33m \u001b[0my_score\u001b[0m \u001b[1;33m=\u001b[0m \u001b[0mclassifier\u001b[0m\u001b[1;33m.\u001b[0m\u001b[0mdecision_function\u001b[0m\u001b[1;33m(\u001b[0m\u001b[0mX_test\u001b[0m\u001b[1;33m)\u001b[0m\u001b[1;33m\u001b[0m\u001b[0m\n\u001b[0m\u001b[0;32m      4\u001b[0m \u001b[0maverage_precision\u001b[0m \u001b[1;33m=\u001b[0m \u001b[0maverage_precision_score\u001b[0m\u001b[1;33m(\u001b[0m\u001b[0my_test\u001b[0m\u001b[1;33m,\u001b[0m \u001b[0mprob_lr1_test\u001b[0m\u001b[1;33m)\u001b[0m\u001b[1;33m\u001b[0m\u001b[0m\n\u001b[0;32m      5\u001b[0m \u001b[1;33m\u001b[0m\u001b[0m\n",
      "\u001b[1;31mNameError\u001b[0m: name 'classifier' is not defined"
     ]
    }
   ],
   "source": [
    "from sklearn.metrics import average_precision_score\n",
    "\n",
    "y_score = classifier.decision_function(X_test)\n",
    "average_precision = average_precision_score(y_test, prob_lr1_test)\n",
    "\n",
    "print('Average precision-recall score: {0:0.2f}'.format(\n",
    "      average_precision))"
   ]
  },
  {
   "cell_type": "code",
   "execution_count": 49,
   "metadata": {},
   "outputs": [
    {
     "ename": "NameError",
     "evalue": "name 'average_precision' is not defined",
     "output_type": "error",
     "traceback": [
      "\u001b[1;31m---------------------------------------------------------------------------\u001b[0m",
      "\u001b[1;31mNameError\u001b[0m                                 Traceback (most recent call last)",
      "\u001b[1;32m<ipython-input-49-6918a7c1bec1>\u001b[0m in \u001b[0;36m<module>\u001b[1;34m()\u001b[0m\n\u001b[0;32m     14\u001b[0m \u001b[0mplt\u001b[0m\u001b[1;33m.\u001b[0m\u001b[0mxlim\u001b[0m\u001b[1;33m(\u001b[0m\u001b[1;33m[\u001b[0m\u001b[1;36m0.0\u001b[0m\u001b[1;33m,\u001b[0m \u001b[1;36m1.0\u001b[0m\u001b[1;33m]\u001b[0m\u001b[1;33m)\u001b[0m\u001b[1;33m\u001b[0m\u001b[0m\n\u001b[0;32m     15\u001b[0m plt.title('2-class Precision-Recall curve: AP={0:0.2f}'.format(\n\u001b[1;32m---> 16\u001b[1;33m           average_precision))\n\u001b[0m\u001b[0;32m     17\u001b[0m \u001b[0mplt\u001b[0m\u001b[1;33m.\u001b[0m\u001b[0mshow\u001b[0m\u001b[1;33m(\u001b[0m\u001b[1;33m)\u001b[0m\u001b[1;33m\u001b[0m\u001b[0m\n",
      "\u001b[1;31mNameError\u001b[0m: name 'average_precision' is not defined"
     ]
    }
   ],
   "source": [
    "from sklearn.metrics import precision_recall_curve\n",
    "import matplotlib.pyplot as plt\n",
    "\n",
    "precision, recall, _ = precision_recall_curve(y_test, prob_lr1_test)\n",
    "\n",
    "plt.step(recall, precision, color='b', alpha=0.2,\n",
    "         where='post')\n",
    "plt.fill_between(recall, precision, step='post', alpha=0.2,\n",
    "                 color='b')\n",
    "\n",
    "plt.xlabel('Recall')\n",
    "plt.ylabel('Precision')\n",
    "plt.ylim([0.0, 1.05])\n",
    "plt.xlim([0.0, 1.0])\n",
    "plt.title('2-class Precision-Recall curve: AP={0:0.2f}'.format(\n",
    "          average_precision))\n",
    "plt.show()"
   ]
  },
  {
   "cell_type": "markdown",
   "metadata": {},
   "source": [
    "### Visualizing and interpreting a Decision Tree\n",
    "The learned internal tree structure of a decision tree can be visualized with a python component called graphviz. Let's examine the structure and see how we can interpret the resulting decision rules. Color coding can help us see the decision and it's confidence."
   ]
  },
  {
   "cell_type": "code",
   "execution_count": 50,
   "metadata": {},
   "outputs": [
    {
     "data": {
      "image/svg+xml": [
       "<?xml version=\"1.0\" encoding=\"UTF-8\" standalone=\"no\"?>\r\n",
       "<!DOCTYPE svg PUBLIC \"-//W3C//DTD SVG 1.1//EN\"\r\n",
       " \"http://www.w3.org/Graphics/SVG/1.1/DTD/svg11.dtd\">\r\n",
       "<!-- Generated by graphviz version 2.38.0 (20140413.2041)\r\n",
       " -->\r\n",
       "<!-- Title: Tree Pages: 1 -->\r\n",
       "<svg width=\"2015pt\" height=\"477pt\"\r\n",
       " viewBox=\"0.00 0.00 2015.00 477.00\" xmlns=\"http://www.w3.org/2000/svg\" xmlns:xlink=\"http://www.w3.org/1999/xlink\">\r\n",
       "<g id=\"graph0\" class=\"graph\" transform=\"scale(1 1) rotate(0) translate(4 473)\">\r\n",
       "<title>Tree</title>\r\n",
       "<polygon fill=\"white\" stroke=\"none\" points=\"-4,4 -4,-473 2011,-473 2011,4 -4,4\"/>\r\n",
       "<!-- 0 -->\r\n",
       "<g id=\"node1\" class=\"node\"><title>0</title>\r\n",
       "<polygon fill=\"none\" stroke=\"black\" points=\"1091,-469 903,-469 903,-401 1091,-401 1091,-469\"/>\r\n",
       "<text text-anchor=\"middle\" x=\"997\" y=\"-453.8\" font-family=\"Times New Roman,serif\" font-size=\"14.00\">last_pymnt_amnt &lt;= 1007.955</text>\r\n",
       "<text text-anchor=\"middle\" x=\"997\" y=\"-438.8\" font-family=\"Times New Roman,serif\" font-size=\"14.00\">gini = 0.5</text>\r\n",
       "<text text-anchor=\"middle\" x=\"997\" y=\"-423.8\" font-family=\"Times New Roman,serif\" font-size=\"14.00\">samples = 9016</text>\r\n",
       "<text text-anchor=\"middle\" x=\"997\" y=\"-408.8\" font-family=\"Times New Roman,serif\" font-size=\"14.00\">value = [4508, 4508]</text>\r\n",
       "</g>\r\n",
       "<!-- 1 -->\r\n",
       "<g id=\"node2\" class=\"node\"><title>1</title>\r\n",
       "<polygon fill=\"#399de5\" fill-opacity=\"0.462745\" stroke=\"black\" points=\"849.5,-365 718.5,-365 718.5,-297 849.5,-297 849.5,-365\"/>\r\n",
       "<text text-anchor=\"middle\" x=\"784\" y=\"-349.8\" font-family=\"Times New Roman,serif\" font-size=\"14.00\">term &lt;= 48.0</text>\r\n",
       "<text text-anchor=\"middle\" x=\"784\" y=\"-334.8\" font-family=\"Times New Roman,serif\" font-size=\"14.00\">gini = 0.455</text>\r\n",
       "<text text-anchor=\"middle\" x=\"784\" y=\"-319.8\" font-family=\"Times New Roman,serif\" font-size=\"14.00\">samples = 6802</text>\r\n",
       "<text text-anchor=\"middle\" x=\"784\" y=\"-304.8\" font-family=\"Times New Roman,serif\" font-size=\"14.00\">value = [2378, 4424]</text>\r\n",
       "</g>\r\n",
       "<!-- 0&#45;&gt;1 -->\r\n",
       "<g id=\"edge1\" class=\"edge\"><title>0&#45;&gt;1</title>\r\n",
       "<path fill=\"none\" stroke=\"black\" d=\"M927.845,-400.884C905.745,-390.3 881.188,-378.541 858.711,-367.777\"/>\r\n",
       "<polygon fill=\"black\" stroke=\"black\" points=\"860.082,-364.553 849.551,-363.391 857.058,-370.866 860.082,-364.553\"/>\r\n",
       "<text text-anchor=\"middle\" x=\"857.86\" y=\"-383.269\" font-family=\"Times New Roman,serif\" font-size=\"14.00\">True</text>\r\n",
       "</g>\r\n",
       "<!-- 16 -->\r\n",
       "<g id=\"node17\" class=\"node\"><title>16</title>\r\n",
       "<polygon fill=\"#e58139\" fill-opacity=\"0.960784\" stroke=\"black\" points=\"1369,-365 1181,-365 1181,-297 1369,-297 1369,-365\"/>\r\n",
       "<text text-anchor=\"middle\" x=\"1275\" y=\"-349.8\" font-family=\"Times New Roman,serif\" font-size=\"14.00\">last_pymnt_amnt &lt;= 1328.705</text>\r\n",
       "<text text-anchor=\"middle\" x=\"1275\" y=\"-334.8\" font-family=\"Times New Roman,serif\" font-size=\"14.00\">gini = 0.073</text>\r\n",
       "<text text-anchor=\"middle\" x=\"1275\" y=\"-319.8\" font-family=\"Times New Roman,serif\" font-size=\"14.00\">samples = 2214</text>\r\n",
       "<text text-anchor=\"middle\" x=\"1275\" y=\"-304.8\" font-family=\"Times New Roman,serif\" font-size=\"14.00\">value = [2130, 84]</text>\r\n",
       "</g>\r\n",
       "<!-- 0&#45;&gt;16 -->\r\n",
       "<g id=\"edge16\" class=\"edge\"><title>0&#45;&gt;16</title>\r\n",
       "<path fill=\"none\" stroke=\"black\" d=\"M1087.26,-400.884C1115.32,-390.588 1146.41,-379.179 1175.09,-368.656\"/>\r\n",
       "<polygon fill=\"black\" stroke=\"black\" points=\"1176.54,-371.855 1184.72,-365.125 1174.13,-365.284 1176.54,-371.855\"/>\r\n",
       "<text text-anchor=\"middle\" x=\"1174.21\" y=\"-384.11\" font-family=\"Times New Roman,serif\" font-size=\"14.00\">False</text>\r\n",
       "</g>\r\n",
       "<!-- 2 -->\r\n",
       "<g id=\"node3\" class=\"node\"><title>2</title>\r\n",
       "<polygon fill=\"#399de5\" fill-opacity=\"0.211765\" stroke=\"black\" points=\"493.5,-261 362.5,-261 362.5,-193 493.5,-193 493.5,-261\"/>\r\n",
       "<text text-anchor=\"middle\" x=\"428\" y=\"-245.8\" font-family=\"Times New Roman,serif\" font-size=\"14.00\">int_rate &lt;= 9.895</text>\r\n",
       "<text text-anchor=\"middle\" x=\"428\" y=\"-230.8\" font-family=\"Times New Roman,serif\" font-size=\"14.00\">gini = 0.493</text>\r\n",
       "<text text-anchor=\"middle\" x=\"428\" y=\"-215.8\" font-family=\"Times New Roman,serif\" font-size=\"14.00\">samples = 4523</text>\r\n",
       "<text text-anchor=\"middle\" x=\"428\" y=\"-200.8\" font-family=\"Times New Roman,serif\" font-size=\"14.00\">value = [1994, 2529]</text>\r\n",
       "</g>\r\n",
       "<!-- 1&#45;&gt;2 -->\r\n",
       "<g id=\"edge2\" class=\"edge\"><title>1&#45;&gt;2</title>\r\n",
       "<path fill=\"none\" stroke=\"black\" d=\"M718.289,-311.173C657.55,-293.77 567.327,-267.92 503.617,-249.666\"/>\r\n",
       "<polygon fill=\"black\" stroke=\"black\" points=\"504.206,-246.193 493.628,-246.804 502.278,-252.923 504.206,-246.193\"/>\r\n",
       "</g>\r\n",
       "<!-- 9 -->\r\n",
       "<g id=\"node10\" class=\"node\"><title>9</title>\r\n",
       "<polygon fill=\"#399de5\" fill-opacity=\"0.796078\" stroke=\"black\" points=\"846.5,-261 721.5,-261 721.5,-193 846.5,-193 846.5,-261\"/>\r\n",
       "<text text-anchor=\"middle\" x=\"784\" y=\"-245.8\" font-family=\"Times New Roman,serif\" font-size=\"14.00\">int_rate &lt;= 11.05</text>\r\n",
       "<text text-anchor=\"middle\" x=\"784\" y=\"-230.8\" font-family=\"Times New Roman,serif\" font-size=\"14.00\">gini = 0.28</text>\r\n",
       "<text text-anchor=\"middle\" x=\"784\" y=\"-215.8\" font-family=\"Times New Roman,serif\" font-size=\"14.00\">samples = 2279</text>\r\n",
       "<text text-anchor=\"middle\" x=\"784\" y=\"-200.8\" font-family=\"Times New Roman,serif\" font-size=\"14.00\">value = [384, 1895]</text>\r\n",
       "</g>\r\n",
       "<!-- 1&#45;&gt;9 -->\r\n",
       "<g id=\"edge9\" class=\"edge\"><title>1&#45;&gt;9</title>\r\n",
       "<path fill=\"none\" stroke=\"black\" d=\"M784,-296.884C784,-288.778 784,-279.982 784,-271.472\"/>\r\n",
       "<polygon fill=\"black\" stroke=\"black\" points=\"787.5,-271.299 784,-261.299 780.5,-271.299 787.5,-271.299\"/>\r\n",
       "</g>\r\n",
       "<!-- 3 -->\r\n",
       "<g id=\"node4\" class=\"node\"><title>3</title>\r\n",
       "<polygon fill=\"#e58139\" fill-opacity=\"0.352941\" stroke=\"black\" points=\"279,-157 105,-157 105,-89 279,-89 279,-157\"/>\r\n",
       "<text text-anchor=\"middle\" x=\"192\" y=\"-141.8\" font-family=\"Times New Roman,serif\" font-size=\"14.00\">last_pymnt_amnt &lt;= 445.53</text>\r\n",
       "<text text-anchor=\"middle\" x=\"192\" y=\"-126.8\" font-family=\"Times New Roman,serif\" font-size=\"14.00\">gini = 0.477</text>\r\n",
       "<text text-anchor=\"middle\" x=\"192\" y=\"-111.8\" font-family=\"Times New Roman,serif\" font-size=\"14.00\">samples = 1285</text>\r\n",
       "<text text-anchor=\"middle\" x=\"192\" y=\"-96.8\" font-family=\"Times New Roman,serif\" font-size=\"14.00\">value = [780, 505]</text>\r\n",
       "</g>\r\n",
       "<!-- 2&#45;&gt;3 -->\r\n",
       "<g id=\"edge3\" class=\"edge\"><title>2&#45;&gt;3</title>\r\n",
       "<path fill=\"none\" stroke=\"black\" d=\"M362.261,-197.587C336.161,-186.307 305.786,-173.179 277.978,-161.16\"/>\r\n",
       "<polygon fill=\"black\" stroke=\"black\" points=\"279.223,-157.885 268.656,-157.131 276.446,-164.311 279.223,-157.885\"/>\r\n",
       "</g>\r\n",
       "<!-- 6 -->\r\n",
       "<g id=\"node7\" class=\"node\"><title>6</title>\r\n",
       "<polygon fill=\"#399de5\" fill-opacity=\"0.400000\" stroke=\"black\" points=\"518.5,-157 337.5,-157 337.5,-89 518.5,-89 518.5,-157\"/>\r\n",
       "<text text-anchor=\"middle\" x=\"428\" y=\"-141.8\" font-family=\"Times New Roman,serif\" font-size=\"14.00\">last_pymnt_amnt &lt;= 361.665</text>\r\n",
       "<text text-anchor=\"middle\" x=\"428\" y=\"-126.8\" font-family=\"Times New Roman,serif\" font-size=\"14.00\">gini = 0.469</text>\r\n",
       "<text text-anchor=\"middle\" x=\"428\" y=\"-111.8\" font-family=\"Times New Roman,serif\" font-size=\"14.00\">samples = 3238</text>\r\n",
       "<text text-anchor=\"middle\" x=\"428\" y=\"-96.8\" font-family=\"Times New Roman,serif\" font-size=\"14.00\">value = [1214, 2024]</text>\r\n",
       "</g>\r\n",
       "<!-- 2&#45;&gt;6 -->\r\n",
       "<g id=\"edge6\" class=\"edge\"><title>2&#45;&gt;6</title>\r\n",
       "<path fill=\"none\" stroke=\"black\" d=\"M428,-192.884C428,-184.778 428,-175.982 428,-167.472\"/>\r\n",
       "<polygon fill=\"black\" stroke=\"black\" points=\"431.5,-167.299 428,-157.299 424.5,-167.299 431.5,-167.299\"/>\r\n",
       "</g>\r\n",
       "<!-- 4 -->\r\n",
       "<g id=\"node5\" class=\"node\"><title>4</title>\r\n",
       "<polygon fill=\"#e58139\" fill-opacity=\"0.243137\" stroke=\"black\" points=\"118,-53 0,-53 0,-0 118,-0 118,-53\"/>\r\n",
       "<text text-anchor=\"middle\" x=\"59\" y=\"-37.8\" font-family=\"Times New Roman,serif\" font-size=\"14.00\">gini = 0.491</text>\r\n",
       "<text text-anchor=\"middle\" x=\"59\" y=\"-22.8\" font-family=\"Times New Roman,serif\" font-size=\"14.00\">samples = 1050</text>\r\n",
       "<text text-anchor=\"middle\" x=\"59\" y=\"-7.8\" font-family=\"Times New Roman,serif\" font-size=\"14.00\">value = [597, 453]</text>\r\n",
       "</g>\r\n",
       "<!-- 3&#45;&gt;4 -->\r\n",
       "<g id=\"edge4\" class=\"edge\"><title>3&#45;&gt;4</title>\r\n",
       "<path fill=\"none\" stroke=\"black\" d=\"M145.483,-88.9485C131.836,-79.2516 116.95,-68.6752 103.436,-59.073\"/>\r\n",
       "<polygon fill=\"black\" stroke=\"black\" points=\"105.401,-56.1757 95.222,-53.2367 101.347,-61.882 105.401,-56.1757\"/>\r\n",
       "</g>\r\n",
       "<!-- 5 -->\r\n",
       "<g id=\"node6\" class=\"node\"><title>5</title>\r\n",
       "<polygon fill=\"#e58139\" fill-opacity=\"0.717647\" stroke=\"black\" points=\"247.5,-53 136.5,-53 136.5,-0 247.5,-0 247.5,-53\"/>\r\n",
       "<text text-anchor=\"middle\" x=\"192\" y=\"-37.8\" font-family=\"Times New Roman,serif\" font-size=\"14.00\">gini = 0.345</text>\r\n",
       "<text text-anchor=\"middle\" x=\"192\" y=\"-22.8\" font-family=\"Times New Roman,serif\" font-size=\"14.00\">samples = 235</text>\r\n",
       "<text text-anchor=\"middle\" x=\"192\" y=\"-7.8\" font-family=\"Times New Roman,serif\" font-size=\"14.00\">value = [183, 52]</text>\r\n",
       "</g>\r\n",
       "<!-- 3&#45;&gt;5 -->\r\n",
       "<g id=\"edge5\" class=\"edge\"><title>3&#45;&gt;5</title>\r\n",
       "<path fill=\"none\" stroke=\"black\" d=\"M192,-88.9485C192,-80.7153 192,-71.848 192,-63.4814\"/>\r\n",
       "<polygon fill=\"black\" stroke=\"black\" points=\"195.5,-63.2367 192,-53.2367 188.5,-63.2367 195.5,-63.2367\"/>\r\n",
       "</g>\r\n",
       "<!-- 7 -->\r\n",
       "<g id=\"node8\" class=\"node\"><title>7</title>\r\n",
       "<polygon fill=\"#399de5\" fill-opacity=\"0.505882\" stroke=\"black\" points=\"390.5,-53 265.5,-53 265.5,-0 390.5,-0 390.5,-53\"/>\r\n",
       "<text text-anchor=\"middle\" x=\"328\" y=\"-37.8\" font-family=\"Times New Roman,serif\" font-size=\"14.00\">gini = 0.443</text>\r\n",
       "<text text-anchor=\"middle\" x=\"328\" y=\"-22.8\" font-family=\"Times New Roman,serif\" font-size=\"14.00\">samples = 2245</text>\r\n",
       "<text text-anchor=\"middle\" x=\"328\" y=\"-7.8\" font-family=\"Times New Roman,serif\" font-size=\"14.00\">value = [742, 1503]</text>\r\n",
       "</g>\r\n",
       "<!-- 6&#45;&gt;7 -->\r\n",
       "<g id=\"edge7\" class=\"edge\"><title>6&#45;&gt;7</title>\r\n",
       "<path fill=\"none\" stroke=\"black\" d=\"M393.025,-88.9485C383.151,-79.6175 372.415,-69.4722 362.565,-60.1641\"/>\r\n",
       "<polygon fill=\"black\" stroke=\"black\" points=\"364.907,-57.5613 355.235,-53.2367 360.099,-62.649 364.907,-57.5613\"/>\r\n",
       "</g>\r\n",
       "<!-- 8 -->\r\n",
       "<g id=\"node9\" class=\"node\"><title>8</title>\r\n",
       "<polygon fill=\"#399de5\" fill-opacity=\"0.094118\" stroke=\"black\" points=\"527,-53 409,-53 409,-0 527,-0 527,-53\"/>\r\n",
       "<text text-anchor=\"middle\" x=\"468\" y=\"-37.8\" font-family=\"Times New Roman,serif\" font-size=\"14.00\">gini = 0.499</text>\r\n",
       "<text text-anchor=\"middle\" x=\"468\" y=\"-22.8\" font-family=\"Times New Roman,serif\" font-size=\"14.00\">samples = 993</text>\r\n",
       "<text text-anchor=\"middle\" x=\"468\" y=\"-7.8\" font-family=\"Times New Roman,serif\" font-size=\"14.00\">value = [472, 521]</text>\r\n",
       "</g>\r\n",
       "<!-- 6&#45;&gt;8 -->\r\n",
       "<g id=\"edge8\" class=\"edge\"><title>6&#45;&gt;8</title>\r\n",
       "<path fill=\"none\" stroke=\"black\" d=\"M441.99,-88.9485C445.591,-80.4408 449.479,-71.2562 453.123,-62.6464\"/>\r\n",
       "<polygon fill=\"black\" stroke=\"black\" points=\"456.431,-63.81 457.106,-53.2367 449.985,-61.0814 456.431,-63.81\"/>\r\n",
       "</g>\r\n",
       "<!-- 10 -->\r\n",
       "<g id=\"node11\" class=\"node\"><title>10</title>\r\n",
       "<polygon fill=\"#399de5\" fill-opacity=\"0.498039\" stroke=\"black\" points=\"776.5,-157 595.5,-157 595.5,-89 776.5,-89 776.5,-157\"/>\r\n",
       "<text text-anchor=\"middle\" x=\"686\" y=\"-141.8\" font-family=\"Times New Roman,serif\" font-size=\"14.00\">last_pymnt_amnt &lt;= 512.655</text>\r\n",
       "<text text-anchor=\"middle\" x=\"686\" y=\"-126.8\" font-family=\"Times New Roman,serif\" font-size=\"14.00\">gini = 0.445</text>\r\n",
       "<text text-anchor=\"middle\" x=\"686\" y=\"-111.8\" font-family=\"Times New Roman,serif\" font-size=\"14.00\">samples = 272</text>\r\n",
       "<text text-anchor=\"middle\" x=\"686\" y=\"-96.8\" font-family=\"Times New Roman,serif\" font-size=\"14.00\">value = [91, 181]</text>\r\n",
       "</g>\r\n",
       "<!-- 9&#45;&gt;10 -->\r\n",
       "<g id=\"edge10\" class=\"edge\"><title>9&#45;&gt;10</title>\r\n",
       "<path fill=\"none\" stroke=\"black\" d=\"M752.182,-192.884C743.539,-183.887 734.078,-174.041 725.083,-164.678\"/>\r\n",
       "<polygon fill=\"black\" stroke=\"black\" points=\"727.446,-162.086 717.994,-157.299 722.398,-166.935 727.446,-162.086\"/>\r\n",
       "</g>\r\n",
       "<!-- 13 -->\r\n",
       "<g id=\"node14\" class=\"node\"><title>13</title>\r\n",
       "<polygon fill=\"#399de5\" fill-opacity=\"0.827451\" stroke=\"black\" points=\"969,-157 795,-157 795,-89 969,-89 969,-157\"/>\r\n",
       "<text text-anchor=\"middle\" x=\"882\" y=\"-141.8\" font-family=\"Times New Roman,serif\" font-size=\"14.00\">last_pymnt_amnt &lt;= 22.035</text>\r\n",
       "<text text-anchor=\"middle\" x=\"882\" y=\"-126.8\" font-family=\"Times New Roman,serif\" font-size=\"14.00\">gini = 0.249</text>\r\n",
       "<text text-anchor=\"middle\" x=\"882\" y=\"-111.8\" font-family=\"Times New Roman,serif\" font-size=\"14.00\">samples = 2007</text>\r\n",
       "<text text-anchor=\"middle\" x=\"882\" y=\"-96.8\" font-family=\"Times New Roman,serif\" font-size=\"14.00\">value = [293, 1714]</text>\r\n",
       "</g>\r\n",
       "<!-- 9&#45;&gt;13 -->\r\n",
       "<g id=\"edge13\" class=\"edge\"><title>9&#45;&gt;13</title>\r\n",
       "<path fill=\"none\" stroke=\"black\" d=\"M815.818,-192.884C824.461,-183.887 833.922,-174.041 842.917,-164.678\"/>\r\n",
       "<polygon fill=\"black\" stroke=\"black\" points=\"845.602,-166.935 850.006,-157.299 840.554,-162.086 845.602,-166.935\"/>\r\n",
       "</g>\r\n",
       "<!-- 11 -->\r\n",
       "<g id=\"node12\" class=\"node\"><title>11</title>\r\n",
       "<polygon fill=\"#399de5\" fill-opacity=\"0.615686\" stroke=\"black\" points=\"656.5,-53 545.5,-53 545.5,-0 656.5,-0 656.5,-53\"/>\r\n",
       "<text text-anchor=\"middle\" x=\"601\" y=\"-37.8\" font-family=\"Times New Roman,serif\" font-size=\"14.00\">gini = 0.402</text>\r\n",
       "<text text-anchor=\"middle\" x=\"601\" y=\"-22.8\" font-family=\"Times New Roman,serif\" font-size=\"14.00\">samples = 248</text>\r\n",
       "<text text-anchor=\"middle\" x=\"601\" y=\"-7.8\" font-family=\"Times New Roman,serif\" font-size=\"14.00\">value = [69, 179]</text>\r\n",
       "</g>\r\n",
       "<!-- 10&#45;&gt;11 -->\r\n",
       "<g id=\"edge11\" class=\"edge\"><title>10&#45;&gt;11</title>\r\n",
       "<path fill=\"none\" stroke=\"black\" d=\"M656.271,-88.9485C648.043,-79.8005 639.11,-69.8697 630.874,-60.7126\"/>\r\n",
       "<polygon fill=\"black\" stroke=\"black\" points=\"633.439,-58.331 624.149,-53.2367 628.235,-63.0123 633.439,-58.331\"/>\r\n",
       "</g>\r\n",
       "<!-- 12 -->\r\n",
       "<g id=\"node13\" class=\"node\"><title>12</title>\r\n",
       "<polygon fill=\"#e58139\" fill-opacity=\"0.909804\" stroke=\"black\" points=\"773,-53 675,-53 675,-0 773,-0 773,-53\"/>\r\n",
       "<text text-anchor=\"middle\" x=\"724\" y=\"-37.8\" font-family=\"Times New Roman,serif\" font-size=\"14.00\">gini = 0.153</text>\r\n",
       "<text text-anchor=\"middle\" x=\"724\" y=\"-22.8\" font-family=\"Times New Roman,serif\" font-size=\"14.00\">samples = 24</text>\r\n",
       "<text text-anchor=\"middle\" x=\"724\" y=\"-7.8\" font-family=\"Times New Roman,serif\" font-size=\"14.00\">value = [22, 2]</text>\r\n",
       "</g>\r\n",
       "<!-- 10&#45;&gt;12 -->\r\n",
       "<g id=\"edge12\" class=\"edge\"><title>10&#45;&gt;12</title>\r\n",
       "<path fill=\"none\" stroke=\"black\" d=\"M699.291,-88.9485C702.712,-80.4408 706.405,-71.2562 709.867,-62.6464\"/>\r\n",
       "<polygon fill=\"black\" stroke=\"black\" points=\"713.167,-63.8205 713.651,-53.2367 706.673,-61.2089 713.167,-63.8205\"/>\r\n",
       "</g>\r\n",
       "<!-- 14 -->\r\n",
       "<g id=\"node15\" class=\"node\"><title>14</title>\r\n",
       "<polygon fill=\"#e58139\" fill-opacity=\"0.090196\" stroke=\"black\" points=\"895,-53 791,-53 791,-0 895,-0 895,-53\"/>\r\n",
       "<text text-anchor=\"middle\" x=\"843\" y=\"-37.8\" font-family=\"Times New Roman,serif\" font-size=\"14.00\">gini = 0.499</text>\r\n",
       "<text text-anchor=\"middle\" x=\"843\" y=\"-22.8\" font-family=\"Times New Roman,serif\" font-size=\"14.00\">samples = 42</text>\r\n",
       "<text text-anchor=\"middle\" x=\"843\" y=\"-7.8\" font-family=\"Times New Roman,serif\" font-size=\"14.00\">value = [22, 20]</text>\r\n",
       "</g>\r\n",
       "<!-- 13&#45;&gt;14 -->\r\n",
       "<g id=\"edge14\" class=\"edge\"><title>13&#45;&gt;14</title>\r\n",
       "<path fill=\"none\" stroke=\"black\" d=\"M868.36,-88.9485C864.849,-80.4408 861.058,-71.2562 857.505,-62.6464\"/>\r\n",
       "<polygon fill=\"black\" stroke=\"black\" points=\"860.672,-61.1452 853.621,-53.2367 854.201,-63.8157 860.672,-61.1452\"/>\r\n",
       "</g>\r\n",
       "<!-- 15 -->\r\n",
       "<g id=\"node16\" class=\"node\"><title>15</title>\r\n",
       "<polygon fill=\"#399de5\" fill-opacity=\"0.839216\" stroke=\"black\" points=\"1038.5,-53 913.5,-53 913.5,-0 1038.5,-0 1038.5,-53\"/>\r\n",
       "<text text-anchor=\"middle\" x=\"976\" y=\"-37.8\" font-family=\"Times New Roman,serif\" font-size=\"14.00\">gini = 0.238</text>\r\n",
       "<text text-anchor=\"middle\" x=\"976\" y=\"-22.8\" font-family=\"Times New Roman,serif\" font-size=\"14.00\">samples = 1965</text>\r\n",
       "<text text-anchor=\"middle\" x=\"976\" y=\"-7.8\" font-family=\"Times New Roman,serif\" font-size=\"14.00\">value = [271, 1694]</text>\r\n",
       "</g>\r\n",
       "<!-- 13&#45;&gt;15 -->\r\n",
       "<g id=\"edge15\" class=\"edge\"><title>13&#45;&gt;15</title>\r\n",
       "<path fill=\"none\" stroke=\"black\" d=\"M914.877,-88.9485C924.067,-79.709 934.052,-69.671 943.236,-60.4381\"/>\r\n",
       "<polygon fill=\"black\" stroke=\"black\" points=\"945.829,-62.7948 950.399,-53.2367 940.866,-57.8582 945.829,-62.7948\"/>\r\n",
       "</g>\r\n",
       "<!-- 17 -->\r\n",
       "<g id=\"node18\" class=\"node\"><title>17</title>\r\n",
       "<polygon fill=\"#e58139\" fill-opacity=\"0.721569\" stroke=\"black\" points=\"1346.5,-261 1203.5,-261 1203.5,-193 1346.5,-193 1346.5,-261\"/>\r\n",
       "<text text-anchor=\"middle\" x=\"1275\" y=\"-245.8\" font-family=\"Times New Roman,serif\" font-size=\"14.00\">loan_amnt &lt;= 14000.0</text>\r\n",
       "<text text-anchor=\"middle\" x=\"1275\" y=\"-230.8\" font-family=\"Times New Roman,serif\" font-size=\"14.00\">gini = 0.341</text>\r\n",
       "<text text-anchor=\"middle\" x=\"1275\" y=\"-215.8\" font-family=\"Times New Roman,serif\" font-size=\"14.00\">samples = 174</text>\r\n",
       "<text text-anchor=\"middle\" x=\"1275\" y=\"-200.8\" font-family=\"Times New Roman,serif\" font-size=\"14.00\">value = [136, 38]</text>\r\n",
       "</g>\r\n",
       "<!-- 16&#45;&gt;17 -->\r\n",
       "<g id=\"edge17\" class=\"edge\"><title>16&#45;&gt;17</title>\r\n",
       "<path fill=\"none\" stroke=\"black\" d=\"M1275,-296.884C1275,-288.778 1275,-279.982 1275,-271.472\"/>\r\n",
       "<polygon fill=\"black\" stroke=\"black\" points=\"1278.5,-271.299 1275,-261.299 1271.5,-271.299 1278.5,-271.299\"/>\r\n",
       "</g>\r\n",
       "<!-- 24 -->\r\n",
       "<g id=\"node25\" class=\"node\"><title>24</title>\r\n",
       "<polygon fill=\"#e58139\" fill-opacity=\"0.976471\" stroke=\"black\" points=\"1708,-261 1534,-261 1534,-193 1708,-193 1708,-261\"/>\r\n",
       "<text text-anchor=\"middle\" x=\"1621\" y=\"-245.8\" font-family=\"Times New Roman,serif\" font-size=\"14.00\">last_pymnt_amnt &lt;= 2002.0</text>\r\n",
       "<text text-anchor=\"middle\" x=\"1621\" y=\"-230.8\" font-family=\"Times New Roman,serif\" font-size=\"14.00\">gini = 0.044</text>\r\n",
       "<text text-anchor=\"middle\" x=\"1621\" y=\"-215.8\" font-family=\"Times New Roman,serif\" font-size=\"14.00\">samples = 2040</text>\r\n",
       "<text text-anchor=\"middle\" x=\"1621\" y=\"-200.8\" font-family=\"Times New Roman,serif\" font-size=\"14.00\">value = [1994, 46]</text>\r\n",
       "</g>\r\n",
       "<!-- 16&#45;&gt;24 -->\r\n",
       "<g id=\"edge24\" class=\"edge\"><title>16&#45;&gt;24</title>\r\n",
       "<path fill=\"none\" stroke=\"black\" d=\"M1369.09,-302.263C1417.11,-288.106 1475.45,-270.907 1523.9,-256.626\"/>\r\n",
       "<polygon fill=\"black\" stroke=\"black\" points=\"1525.16,-259.903 1533.76,-253.718 1523.18,-253.189 1525.16,-259.903\"/>\r\n",
       "</g>\r\n",
       "<!-- 18 -->\r\n",
       "<g id=\"node19\" class=\"node\"><title>18</title>\r\n",
       "<polygon fill=\"#e58139\" fill-opacity=\"0.933333\" stroke=\"black\" points=\"1281.5,-157 1100.5,-157 1100.5,-89 1281.5,-89 1281.5,-157\"/>\r\n",
       "<text text-anchor=\"middle\" x=\"1191\" y=\"-141.8\" font-family=\"Times New Roman,serif\" font-size=\"14.00\">last_pymnt_amnt &lt;= 1296.87</text>\r\n",
       "<text text-anchor=\"middle\" x=\"1191\" y=\"-126.8\" font-family=\"Times New Roman,serif\" font-size=\"14.00\">gini = 0.119</text>\r\n",
       "<text text-anchor=\"middle\" x=\"1191\" y=\"-111.8\" font-family=\"Times New Roman,serif\" font-size=\"14.00\">samples = 110</text>\r\n",
       "<text text-anchor=\"middle\" x=\"1191\" y=\"-96.8\" font-family=\"Times New Roman,serif\" font-size=\"14.00\">value = [103, 7]</text>\r\n",
       "</g>\r\n",
       "<!-- 17&#45;&gt;18 -->\r\n",
       "<g id=\"edge18\" class=\"edge\"><title>17&#45;&gt;18</title>\r\n",
       "<path fill=\"none\" stroke=\"black\" d=\"M1247.73,-192.884C1240.47,-184.065 1232.53,-174.43 1224.96,-165.235\"/>\r\n",
       "<polygon fill=\"black\" stroke=\"black\" points=\"1227.48,-162.794 1218.42,-157.299 1222.08,-167.244 1227.48,-162.794\"/>\r\n",
       "</g>\r\n",
       "<!-- 21 -->\r\n",
       "<g id=\"node22\" class=\"node\"><title>21</title>\r\n",
       "<polygon fill=\"#e58139\" fill-opacity=\"0.058824\" stroke=\"black\" points=\"1418.5,-157 1299.5,-157 1299.5,-89 1418.5,-89 1418.5,-157\"/>\r\n",
       "<text text-anchor=\"middle\" x=\"1359\" y=\"-141.8\" font-family=\"Times New Roman,serif\" font-size=\"14.00\">int_rate &lt;= 11.105</text>\r\n",
       "<text text-anchor=\"middle\" x=\"1359\" y=\"-126.8\" font-family=\"Times New Roman,serif\" font-size=\"14.00\">gini = 0.5</text>\r\n",
       "<text text-anchor=\"middle\" x=\"1359\" y=\"-111.8\" font-family=\"Times New Roman,serif\" font-size=\"14.00\">samples = 64</text>\r\n",
       "<text text-anchor=\"middle\" x=\"1359\" y=\"-96.8\" font-family=\"Times New Roman,serif\" font-size=\"14.00\">value = [33, 31]</text>\r\n",
       "</g>\r\n",
       "<!-- 17&#45;&gt;21 -->\r\n",
       "<g id=\"edge21\" class=\"edge\"><title>17&#45;&gt;21</title>\r\n",
       "<path fill=\"none\" stroke=\"black\" d=\"M1302.27,-192.884C1309.53,-184.065 1317.47,-174.43 1325.04,-165.235\"/>\r\n",
       "<polygon fill=\"black\" stroke=\"black\" points=\"1327.92,-167.244 1331.58,-157.299 1322.52,-162.794 1327.92,-167.244\"/>\r\n",
       "</g>\r\n",
       "<!-- 19 -->\r\n",
       "<g id=\"node20\" class=\"node\"><title>19</title>\r\n",
       "<polygon fill=\"#e58139\" fill-opacity=\"0.960784\" stroke=\"black\" points=\"1155,-53 1057,-53 1057,-0 1155,-0 1155,-53\"/>\r\n",
       "<text text-anchor=\"middle\" x=\"1106\" y=\"-37.8\" font-family=\"Times New Roman,serif\" font-size=\"14.00\">gini = 0.075</text>\r\n",
       "<text text-anchor=\"middle\" x=\"1106\" y=\"-22.8\" font-family=\"Times New Roman,serif\" font-size=\"14.00\">samples = 102</text>\r\n",
       "<text text-anchor=\"middle\" x=\"1106\" y=\"-7.8\" font-family=\"Times New Roman,serif\" font-size=\"14.00\">value = [98, 4]</text>\r\n",
       "</g>\r\n",
       "<!-- 18&#45;&gt;19 -->\r\n",
       "<g id=\"edge19\" class=\"edge\"><title>18&#45;&gt;19</title>\r\n",
       "<path fill=\"none\" stroke=\"black\" d=\"M1161.27,-88.9485C1153.04,-79.8005 1144.11,-69.8697 1135.87,-60.7126\"/>\r\n",
       "<polygon fill=\"black\" stroke=\"black\" points=\"1138.44,-58.331 1129.15,-53.2367 1133.23,-63.0123 1138.44,-58.331\"/>\r\n",
       "</g>\r\n",
       "<!-- 20 -->\r\n",
       "<g id=\"node21\" class=\"node\"><title>20</title>\r\n",
       "<polygon fill=\"#e58139\" fill-opacity=\"0.400000\" stroke=\"black\" points=\"1264.5,-53 1173.5,-53 1173.5,-0 1264.5,-0 1264.5,-53\"/>\r\n",
       "<text text-anchor=\"middle\" x=\"1219\" y=\"-37.8\" font-family=\"Times New Roman,serif\" font-size=\"14.00\">gini = 0.469</text>\r\n",
       "<text text-anchor=\"middle\" x=\"1219\" y=\"-22.8\" font-family=\"Times New Roman,serif\" font-size=\"14.00\">samples = 8</text>\r\n",
       "<text text-anchor=\"middle\" x=\"1219\" y=\"-7.8\" font-family=\"Times New Roman,serif\" font-size=\"14.00\">value = [5, 3]</text>\r\n",
       "</g>\r\n",
       "<!-- 18&#45;&gt;20 -->\r\n",
       "<g id=\"edge20\" class=\"edge\"><title>18&#45;&gt;20</title>\r\n",
       "<path fill=\"none\" stroke=\"black\" d=\"M1200.79,-88.9485C1203.29,-80.5323 1205.98,-71.4536 1208.5,-62.9243\"/>\r\n",
       "<polygon fill=\"black\" stroke=\"black\" points=\"1211.89,-63.819 1211.37,-53.2367 1205.18,-61.8304 1211.89,-63.819\"/>\r\n",
       "</g>\r\n",
       "<!-- 22 -->\r\n",
       "<g id=\"node23\" class=\"node\"><title>22</title>\r\n",
       "<polygon fill=\"#e58139\" stroke=\"black\" points=\"1381,-53 1283,-53 1283,-0 1381,-0 1381,-53\"/>\r\n",
       "<text text-anchor=\"middle\" x=\"1332\" y=\"-37.8\" font-family=\"Times New Roman,serif\" font-size=\"14.00\">gini = 0.0</text>\r\n",
       "<text text-anchor=\"middle\" x=\"1332\" y=\"-22.8\" font-family=\"Times New Roman,serif\" font-size=\"14.00\">samples = 13</text>\r\n",
       "<text text-anchor=\"middle\" x=\"1332\" y=\"-7.8\" font-family=\"Times New Roman,serif\" font-size=\"14.00\">value = [13, 0]</text>\r\n",
       "</g>\r\n",
       "<!-- 21&#45;&gt;22 -->\r\n",
       "<g id=\"edge22\" class=\"edge\"><title>21&#45;&gt;22</title>\r\n",
       "<path fill=\"none\" stroke=\"black\" d=\"M1349.56,-88.9485C1347.15,-80.5323 1344.56,-71.4536 1342.12,-62.9243\"/>\r\n",
       "<polygon fill=\"black\" stroke=\"black\" points=\"1345.47,-61.8904 1339.35,-53.2367 1338.74,-63.8135 1345.47,-61.8904\"/>\r\n",
       "</g>\r\n",
       "<!-- 23 -->\r\n",
       "<g id=\"node24\" class=\"node\"><title>23</title>\r\n",
       "<polygon fill=\"#399de5\" fill-opacity=\"0.352941\" stroke=\"black\" points=\"1503,-53 1399,-53 1399,-0 1503,-0 1503,-53\"/>\r\n",
       "<text text-anchor=\"middle\" x=\"1451\" y=\"-37.8\" font-family=\"Times New Roman,serif\" font-size=\"14.00\">gini = 0.477</text>\r\n",
       "<text text-anchor=\"middle\" x=\"1451\" y=\"-22.8\" font-family=\"Times New Roman,serif\" font-size=\"14.00\">samples = 51</text>\r\n",
       "<text text-anchor=\"middle\" x=\"1451\" y=\"-7.8\" font-family=\"Times New Roman,serif\" font-size=\"14.00\">value = [20, 31]</text>\r\n",
       "</g>\r\n",
       "<!-- 21&#45;&gt;23 -->\r\n",
       "<g id=\"edge23\" class=\"edge\"><title>21&#45;&gt;23</title>\r\n",
       "<path fill=\"none\" stroke=\"black\" d=\"M1391.18,-88.9485C1400.17,-79.709 1409.94,-69.671 1418.93,-60.4381\"/>\r\n",
       "<polygon fill=\"black\" stroke=\"black\" points=\"1421.48,-62.8434 1425.94,-53.2367 1416.46,-57.9605 1421.48,-62.8434\"/>\r\n",
       "</g>\r\n",
       "<!-- 25 -->\r\n",
       "<g id=\"node26\" class=\"node\"><title>25</title>\r\n",
       "<polygon fill=\"#e58139\" fill-opacity=\"0.905882\" stroke=\"black\" points=\"1700,-157 1542,-157 1542,-89 1700,-89 1700,-157\"/>\r\n",
       "<text text-anchor=\"middle\" x=\"1621\" y=\"-141.8\" font-family=\"Times New Roman,serif\" font-size=\"14.00\">funded_amnt &lt;= 19100.0</text>\r\n",
       "<text text-anchor=\"middle\" x=\"1621\" y=\"-126.8\" font-family=\"Times New Roman,serif\" font-size=\"14.00\">gini = 0.155</text>\r\n",
       "<text text-anchor=\"middle\" x=\"1621\" y=\"-111.8\" font-family=\"Times New Roman,serif\" font-size=\"14.00\">samples = 283</text>\r\n",
       "<text text-anchor=\"middle\" x=\"1621\" y=\"-96.8\" font-family=\"Times New Roman,serif\" font-size=\"14.00\">value = [259, 24]</text>\r\n",
       "</g>\r\n",
       "<!-- 24&#45;&gt;25 -->\r\n",
       "<g id=\"edge25\" class=\"edge\"><title>24&#45;&gt;25</title>\r\n",
       "<path fill=\"none\" stroke=\"black\" d=\"M1621,-192.884C1621,-184.778 1621,-175.982 1621,-167.472\"/>\r\n",
       "<polygon fill=\"black\" stroke=\"black\" points=\"1624.5,-167.299 1621,-157.299 1617.5,-167.299 1624.5,-167.299\"/>\r\n",
       "</g>\r\n",
       "<!-- 28 -->\r\n",
       "<g id=\"node29\" class=\"node\"><title>28</title>\r\n",
       "<polygon fill=\"#e58139\" fill-opacity=\"0.988235\" stroke=\"black\" points=\"1881,-157 1763,-157 1763,-89 1881,-89 1881,-157\"/>\r\n",
       "<text text-anchor=\"middle\" x=\"1822\" y=\"-141.8\" font-family=\"Times New Roman,serif\" font-size=\"14.00\">dti &lt;= 2.185</text>\r\n",
       "<text text-anchor=\"middle\" x=\"1822\" y=\"-126.8\" font-family=\"Times New Roman,serif\" font-size=\"14.00\">gini = 0.025</text>\r\n",
       "<text text-anchor=\"middle\" x=\"1822\" y=\"-111.8\" font-family=\"Times New Roman,serif\" font-size=\"14.00\">samples = 1757</text>\r\n",
       "<text text-anchor=\"middle\" x=\"1822\" y=\"-96.8\" font-family=\"Times New Roman,serif\" font-size=\"14.00\">value = [1735, 22]</text>\r\n",
       "</g>\r\n",
       "<!-- 24&#45;&gt;28 -->\r\n",
       "<g id=\"edge28\" class=\"edge\"><title>24&#45;&gt;28</title>\r\n",
       "<path fill=\"none\" stroke=\"black\" d=\"M1686.26,-192.884C1707.82,-181.94 1731.87,-169.739 1753.66,-158.682\"/>\r\n",
       "<polygon fill=\"black\" stroke=\"black\" points=\"1755.51,-161.666 1762.84,-154.02 1752.34,-155.424 1755.51,-161.666\"/>\r\n",
       "</g>\r\n",
       "<!-- 26 -->\r\n",
       "<g id=\"node27\" class=\"node\"><title>26</title>\r\n",
       "<polygon fill=\"#e58139\" fill-opacity=\"0.956863\" stroke=\"black\" points=\"1632.5,-53 1521.5,-53 1521.5,-0 1632.5,-0 1632.5,-53\"/>\r\n",
       "<text text-anchor=\"middle\" x=\"1577\" y=\"-37.8\" font-family=\"Times New Roman,serif\" font-size=\"14.00\">gini = 0.077</text>\r\n",
       "<text text-anchor=\"middle\" x=\"1577\" y=\"-22.8\" font-family=\"Times New Roman,serif\" font-size=\"14.00\">samples = 248</text>\r\n",
       "<text text-anchor=\"middle\" x=\"1577\" y=\"-7.8\" font-family=\"Times New Roman,serif\" font-size=\"14.00\">value = [238, 10]</text>\r\n",
       "</g>\r\n",
       "<!-- 25&#45;&gt;26 -->\r\n",
       "<g id=\"edge26\" class=\"edge\"><title>25&#45;&gt;26</title>\r\n",
       "<path fill=\"none\" stroke=\"black\" d=\"M1605.61,-88.9485C1601.61,-80.3494 1597.28,-71.0586 1593.24,-62.3689\"/>\r\n",
       "<polygon fill=\"black\" stroke=\"black\" points=\"1596.38,-60.8249 1588.98,-53.2367 1590.03,-63.7796 1596.38,-60.8249\"/>\r\n",
       "</g>\r\n",
       "<!-- 27 -->\r\n",
       "<g id=\"node28\" class=\"node\"><title>27</title>\r\n",
       "<polygon fill=\"#e58139\" fill-opacity=\"0.333333\" stroke=\"black\" points=\"1755,-53 1651,-53 1651,-0 1755,-0 1755,-53\"/>\r\n",
       "<text text-anchor=\"middle\" x=\"1703\" y=\"-37.8\" font-family=\"Times New Roman,serif\" font-size=\"14.00\">gini = 0.48</text>\r\n",
       "<text text-anchor=\"middle\" x=\"1703\" y=\"-22.8\" font-family=\"Times New Roman,serif\" font-size=\"14.00\">samples = 35</text>\r\n",
       "<text text-anchor=\"middle\" x=\"1703\" y=\"-7.8\" font-family=\"Times New Roman,serif\" font-size=\"14.00\">value = [21, 14]</text>\r\n",
       "</g>\r\n",
       "<!-- 25&#45;&gt;27 -->\r\n",
       "<g id=\"edge27\" class=\"edge\"><title>25&#45;&gt;27</title>\r\n",
       "<path fill=\"none\" stroke=\"black\" d=\"M1649.68,-88.9485C1657.54,-79.892 1666.06,-70.0682 1673.94,-60.9875\"/>\r\n",
       "<polygon fill=\"black\" stroke=\"black\" points=\"1676.76,-63.0835 1680.67,-53.2367 1671.47,-58.4958 1676.76,-63.0835\"/>\r\n",
       "</g>\r\n",
       "<!-- 29 -->\r\n",
       "<g id=\"node30\" class=\"node\"><title>29</title>\r\n",
       "<polygon fill=\"#e58139\" fill-opacity=\"0.937255\" stroke=\"black\" points=\"1871,-53 1773,-53 1773,-0 1871,-0 1871,-53\"/>\r\n",
       "<text text-anchor=\"middle\" x=\"1822\" y=\"-37.8\" font-family=\"Times New Roman,serif\" font-size=\"14.00\">gini = 0.113</text>\r\n",
       "<text text-anchor=\"middle\" x=\"1822\" y=\"-22.8\" font-family=\"Times New Roman,serif\" font-size=\"14.00\">samples = 83</text>\r\n",
       "<text text-anchor=\"middle\" x=\"1822\" y=\"-7.8\" font-family=\"Times New Roman,serif\" font-size=\"14.00\">value = [78, 5]</text>\r\n",
       "</g>\r\n",
       "<!-- 28&#45;&gt;29 -->\r\n",
       "<g id=\"edge29\" class=\"edge\"><title>28&#45;&gt;29</title>\r\n",
       "<path fill=\"none\" stroke=\"black\" d=\"M1822,-88.9485C1822,-80.7153 1822,-71.848 1822,-63.4814\"/>\r\n",
       "<polygon fill=\"black\" stroke=\"black\" points=\"1825.5,-63.2367 1822,-53.2367 1818.5,-63.2367 1825.5,-63.2367\"/>\r\n",
       "</g>\r\n",
       "<!-- 30 -->\r\n",
       "<g id=\"node31\" class=\"node\"><title>30</title>\r\n",
       "<polygon fill=\"#e58139\" fill-opacity=\"0.988235\" stroke=\"black\" points=\"2007,-53 1889,-53 1889,-0 2007,-0 2007,-53\"/>\r\n",
       "<text text-anchor=\"middle\" x=\"1948\" y=\"-37.8\" font-family=\"Times New Roman,serif\" font-size=\"14.00\">gini = 0.02</text>\r\n",
       "<text text-anchor=\"middle\" x=\"1948\" y=\"-22.8\" font-family=\"Times New Roman,serif\" font-size=\"14.00\">samples = 1674</text>\r\n",
       "<text text-anchor=\"middle\" x=\"1948\" y=\"-7.8\" font-family=\"Times New Roman,serif\" font-size=\"14.00\">value = [1657, 17]</text>\r\n",
       "</g>\r\n",
       "<!-- 28&#45;&gt;30 -->\r\n",
       "<g id=\"edge30\" class=\"edge\"><title>28&#45;&gt;30</title>\r\n",
       "<path fill=\"none\" stroke=\"black\" d=\"M1866.07,-88.9485C1878.88,-79.3431 1892.83,-68.8747 1905.54,-59.345\"/>\r\n",
       "<polygon fill=\"black\" stroke=\"black\" points=\"1907.78,-62.0368 1913.68,-53.2367 1903.58,-56.4367 1907.78,-62.0368\"/>\r\n",
       "</g>\r\n",
       "</g>\r\n",
       "</svg>\r\n"
      ],
      "text/plain": [
       "<graphviz.files.Source at 0x1d77a5edb00>"
      ]
     },
     "execution_count": 50,
     "metadata": {},
     "output_type": "execute_result"
    }
   ],
   "source": [
    "import graphviz \n",
    "dot_data = tree.export_graphviz(treemodel,\n",
    "                                feature_names=x_cols,\n",
    "                                out_file=None,\n",
    "                                filled=True)\n",
    "graph = graphviz.Source(dot_data) \n",
    "graph"
   ]
  },
  {
   "cell_type": "markdown",
   "metadata": {},
   "source": [
    "### Exercise: Use predicted probabilities with a different threshold\n",
    "\n",
    "* Use the vectors of predicted default probabilities with a different decision cutoff threshold than 0.5 to make prediction. Change the threshold so that we identify more defaulted loans.\n",
    "* What effect would this have of False Positives?\n",
    "* Create a confusion matrix for all three new predictions and see how they changed compared to the first runs.\n",
    "\n",
    "`Hint: use the probabilities in prob_lr0_test, prob_lr1_test, prob_tree_test, create new vectors of the same size with 0/1 values based on the decision threshold you choose.`"
   ]
  },
  {
   "cell_type": "code",
   "execution_count": null,
   "metadata": {
    "collapsed": true
   },
   "outputs": [],
   "source": []
  },
  {
   "cell_type": "markdown",
   "metadata": {},
   "source": [
    "### Exercise: Vary the max depth of the tree from 1 to 10\n",
    "* Create a series of decision trees with max depths from 1 to 10.\n",
    "* For each tree calculate the AUC value for both the train and test set. Store the train AUC values in a vector called `train_auc` and the test AUC values in a vector called `test_auc`.\n",
    "* Plot the two curves and check the results.\n",
    "\n",
    "\n",
    "`Hint: use a for loop where in each iteration you very the max depth`"
   ]
  },
  {
   "cell_type": "code",
   "execution_count": null,
   "metadata": {
    "collapsed": true
   },
   "outputs": [],
   "source": []
  }
 ],
 "metadata": {
  "kernelspec": {
   "display_name": "Python 3",
   "language": "python",
   "name": "python3"
  },
  "language_info": {
   "codemirror_mode": {
    "name": "ipython",
    "version": 3
   },
   "file_extension": ".py",
   "mimetype": "text/x-python",
   "name": "python",
   "nbconvert_exporter": "python",
   "pygments_lexer": "ipython3",
   "version": "3.6.2"
  },
  "toc": {
   "nav_menu": {},
   "number_sections": true,
   "sideBar": true,
   "skip_h1_title": true,
   "title_cell": "Table of Contents",
   "title_sidebar": "Contents",
   "toc_cell": true,
   "toc_position": {
    "height": "1634px",
    "left": "484px",
    "top": "377.5px",
    "width": "322px"
   },
   "toc_section_display": true,
   "toc_window_display": true
  },
  "varInspector": {
   "cols": {
    "lenName": 16,
    "lenType": 16,
    "lenVar": 40
   },
   "kernels_config": {
    "python": {
     "delete_cmd_postfix": "",
     "delete_cmd_prefix": "del ",
     "library": "var_list.py",
     "varRefreshCmd": "print(var_dic_list())"
    },
    "r": {
     "delete_cmd_postfix": ") ",
     "delete_cmd_prefix": "rm(",
     "library": "var_list.r",
     "varRefreshCmd": "cat(var_dic_list()) "
    }
   },
   "types_to_exclude": [
    "module",
    "function",
    "builtin_function_or_method",
    "instance",
    "_Feature"
   ],
   "window_display": false
  }
 },
 "nbformat": 4,
 "nbformat_minor": 2
}
